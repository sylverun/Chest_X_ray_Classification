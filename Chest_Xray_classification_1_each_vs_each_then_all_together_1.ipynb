{
 "cells": [
  {
   "cell_type": "markdown",
   "id": "2d519195-54e3-4ab7-8a4c-e47a21749313",
   "metadata": {},
   "source": [
    "### Import des librairies et verification-GPU"
   ]
  },
  {
   "cell_type": "code",
   "execution_count": 1,
   "id": "e05a86a9-f5be-450d-bc9f-bef1e0243f63",
   "metadata": {
    "tags": []
   },
   "outputs": [
    {
     "name": "stderr",
     "output_type": "stream",
     "text": [
      "2023-03-05 08:16:09.277765: I tensorflow/core/platform/cpu_feature_guard.cc:193] This TensorFlow binary is optimized with oneAPI Deep Neural Network Library (oneDNN) to use the following CPU instructions in performance-critical operations:  AVX2 FMA\n",
      "To enable them in other operations, rebuild TensorFlow with the appropriate compiler flags.\n",
      "2023-03-05 08:16:11.389162: I tensorflow/core/platform/cpu_feature_guard.cc:193] This TensorFlow binary is optimized with oneAPI Deep Neural Network Library (oneDNN) to use the following CPU instructions in performance-critical operations:  AVX2 FMA\n",
      "To enable them in other operations, rebuild TensorFlow with the appropriate compiler flags.\n",
      "2023-03-05 08:16:12.067018: I tensorflow/core/common_runtime/gpu/gpu_device.cc:1613] Created device /job:localhost/replica:0/task:0/device:GPU:0 with 10784 MB memory:  -> device: 0, name: Tesla K80, pci bus id: 0001:00:00.0, compute capability: 3.7\n"
     ]
    },
    {
     "name": "stdout",
     "output_type": "stream",
     "text": [
      "Looking in indexes: https://pypi.org/simple, https://pypi.ngc.nvidia.com\n",
      "Requirement already satisfied: opencv-python in /opt/conda/lib/python3.10/site-packages (4.7.0.72)\n",
      "Requirement already satisfied: numpy>=1.17.3 in /opt/conda/lib/python3.10/site-packages (from opencv-python) (1.23.5)\n",
      "Is GPU available for TensorFlow:  [PhysicalDevice(name='/physical_device:GPU:0', device_type='GPU')]\n"
     ]
    }
   ],
   "source": [
    "from tensorflow.compat.v1 import ConfigProto\n",
    "from tensorflow.compat.v1 import InteractiveSession\n",
    "config = ConfigProto()\n",
    "config.gpu_options.allow_growth = True\n",
    "session = InteractiveSession(config=config)\n",
    "\n",
    "!pip install opencv-python\n",
    "# librairies générales\n",
    "import pandas as pd\n",
    "import cv2\n",
    "import numpy as np\n",
    "import tensorflow\n",
    "# pour la data augmentation ,preproccesing et split\n",
    "from sklearn.model_selection import train_test_split\n",
    "from tensorflow.keras.utils import Sequence\n",
    "# pour les réseaux d'apprentissage\n",
    "from tensorflow.keras.models import Model\n",
    "from tensorflow.keras.layers import Input, Conv2D, MaxPooling2D, Flatten, Dense\n",
    "from tensorflow.keras.regularizers import l2\n",
    "from tensorflow.keras.optimizers import Adam\n",
    "from tensorflow.keras.callbacks import ReduceLROnPlateau\n",
    "from tensorflow.keras.callbacks import EarlyStopping\n",
    "\n",
    "print(\"Is GPU available for TensorFlow: \", tensorflow.config.list_physical_devices('GPU'))"
   ]
  },
  {
   "cell_type": "markdown",
   "id": "643f5d64-a9c2-4995-9155-00c160369e65",
   "metadata": {},
   "source": [
    "## Mise en place des données pour l'entrainement"
   ]
  },
  {
   "cell_type": "markdown",
   "id": "c535522a-309c-4905-a63b-e5b1f3ed7ba3",
   "metadata": {
    "tags": []
   },
   "source": [
    "##### Chargement de test csv/ modif pour charger les images du dataframe"
   ]
  },
  {
   "cell_type": "code",
   "execution_count": 3,
   "id": "16dd2b36-42ab-4d38-b09d-3c4065dc0418",
   "metadata": {
    "tags": []
   },
   "outputs": [],
   "source": [
    "df_train= pd.read_csv(\"data/train.csv\")\n",
    "df_train['path']=  df_train['image_id'].apply(lambda x: 'data/data/' + x)"
   ]
  },
  {
   "cell_type": "markdown",
   "id": "5a85c221-9a22-41d3-89dd-6b11fe3d0484",
   "metadata": {},
   "source": [
    "# Partie I - Classification 2 à 2 (3 modeles)"
   ]
  },
  {
   "cell_type": "markdown",
   "id": "159681dc-4fb9-49f6-b1cf-ba1f631f644a",
   "metadata": {},
   "source": [
    "### Etablissement des génerateurs pour l'entrainement et la validation"
   ]
  },
  {
   "cell_type": "code",
   "execution_count": 52,
   "id": "c5289c49-46c0-4e40-b97e-db98244c8f54",
   "metadata": {
    "tags": []
   },
   "outputs": [],
   "source": [
    "# inputs: Les images 232,232 seront redimmenssionner au format 256,256,1 et seront augmenter pour le generateur d'entrainement\n",
    "# outputs: les labels seront rendu compatibles pour une loss: 'binary_crossentropy'  \n",
    "\n",
    "class CustomDataGenerator(Sequence):\n",
    "    \n",
    "    def __init__(self, df, batch_size, input_size=(256, 256), output_size=(256, 256), shuffle=True):\n",
    "        self.df = df\n",
    "        self.batch_size = batch_size\n",
    "        self.input_size = input_size\n",
    "        self.output_size = output_size\n",
    "        self.shuffle = shuffle\n",
    "        self.on_epoch_end()\n",
    "    \n",
    "    def __len__(self):\n",
    "        return int(np.ceil(len(self.df) / self.batch_size))\n",
    "    \n",
    "    def __getitem__(self, index):\n",
    "        \n",
    "        batch_df = self.df[index*self.batch_size:(index+1)*self.batch_size]\n",
    "        batch_x = np.zeros((len(batch_df), *self.input_size, 1))\n",
    "        batch_y = np.zeros((len(batch_df), 1))\n",
    "        \n",
    "        for i, row in enumerate(batch_df.itertuples()):\n",
    "            x = tensorflow.keras.utils.load_img(self.df[\"path\"][i], target_size=(232,232), color_mode='grayscale') #chargement de l'image\n",
    "            x = tensorflow.keras.preprocessing.image.img_to_array(x) # transformation en array numpy \n",
    "            x = self.augment_input(x)  # applique la data augmentation pour prévenir l'overfitting \n",
    "            x = x.astype(np.uint16)\n",
    "            x = cv2.resize(x, dsize= self.output_size, interpolation=cv2.INTER_CUBIC) # redimmensionnement de l'image en 256*256\n",
    "            x = np.reshape(x,(256,256,1)).astype('float32') / 255 # mise en forme et normalisation pour injection dans le CNN\n",
    "\n",
    "            y= self.df[\"label\"][i] # aller checher le label pour l'output\n",
    "        \n",
    "            \n",
    "            batch_x[i] = x\n",
    "            batch_y[i] = y\n",
    "        \n",
    "        return batch_x, batch_y\n",
    "    \n",
    "    def augment_input(self, x):\n",
    "        # possible transformation sur l'image x choisit au hasard pour la data augmentation\n",
    "        image_generator = tensorflow.keras.preprocessing.image.ImageDataGenerator(\n",
    "            rotation_range=20,\n",
    "            zoom_range=0.1,   \n",
    "            brightness_range=[0.9, 1.1],\n",
    "            width_shift_range=0.2,\n",
    "            height_shift_range=0.2,\n",
    "            shear_range=0.2,\n",
    "            horizontal_flip=True,\n",
    "            fill_mode='reflect',\n",
    "        )\n",
    "        x = image_generator.random_transform(x)\n",
    "        return x\n",
    "    \n",
    "    def on_epoch_end(self):\n",
    "        # melange le dataframe à la fin de chaque epoch d'entrainement\n",
    "        if self.shuffle:\n",
    "            self.df = self.df.sample(frac=1)\n",
    "            \n",
    "            \n",
    "class CustomDataGenerator_valid(Sequence):\n",
    "    # similaire à CustomDataGenerator sans data augmentation pour la validation\n",
    "    def __init__(self, df, batch_size, input_size=(256, 256), output_size=(256, 256), shuffle=False):\n",
    "        self.df = df\n",
    "        self.batch_size = batch_size\n",
    "        self.input_size = input_size\n",
    "        self.output_size = output_size\n",
    "        self.shuffle = shuffle\n",
    "    \n",
    "    def __len__(self):\n",
    "        return int(np.ceil(len(self.df) / self.batch_size))\n",
    "    \n",
    "    def __getitem__(self, index):\n",
    "        \n",
    "        batch_df = self.df[index*self.batch_size:(index+1)*self.batch_size]\n",
    "        batch_x = np.zeros((len(batch_df), *self.input_size, 1))\n",
    "        batch_y = np.zeros((len(batch_df), 1))\n",
    "        \n",
    "        for i, row in enumerate(batch_df.itertuples()):\n",
    "            # for training\n",
    "            x = tensorflow.keras.utils.load_img(self.df[\"path\"][i], target_size=(232,232), color_mode='grayscale')\n",
    "            x = tensorflow.keras.preprocessing.image.img_to_array(x)\n",
    "            x = x.astype(np.uint16)\n",
    "            x = cv2.resize(x, dsize= self.output_size, interpolation=cv2.INTER_CUBIC)\n",
    "            x = np.reshape(x,(256,256,1)).astype('float32') / 255\n",
    "            \n",
    "            y= self.df[\"label\"][i]\n",
    "            \n",
    "            batch_x[i] = x\n",
    "            batch_y[i] = y\n",
    "        \n",
    "        return batch_x, batch_y"
   ]
  },
  {
   "cell_type": "markdown",
   "id": "013103ac-a072-4114-951f-106686adb364",
   "metadata": {},
   "source": [
    "#### Etablissement des différents datasets pour classificateur 2 labels"
   ]
  },
  {
   "cell_type": "code",
   "execution_count": 6,
   "id": "5a0618f0-10c9-454d-ad7a-b67874e5b09b",
   "metadata": {
    "tags": []
   },
   "outputs": [],
   "source": [
    "df_train_np= df_train.drop(df_train[df_train['label'].str.contains('COVID')].index)  # df normal/pneumonie\n",
    "df_train_nc= df_train.drop(df_train[df_train['label'].str.contains('PNEUMONIA')].index) # df normal/covid\n",
    "df_train_pc=  df_train.drop(df_train[df_train['label'].str.contains('NORMAL')].index)  # df pneumonie/covid\n",
    "\n",
    "df_train_np['label'] = df_train_np['label'].replace({'NORMAL': 0, 'PNEUMONIA': 1})\n",
    "df_train_nc['label'] = df_train_nc['label'].replace({'NORMAL': 0, 'COVID': 1})\n",
    "df_train_pc['label'] = df_train_pc['label'].replace({'PNEUMONIA': 0, 'COVID': 1})"
   ]
  },
  {
   "cell_type": "markdown",
   "id": "662f3d0c-4e87-4b2d-b103-0559a4b009c5",
   "metadata": {
    "tags": []
   },
   "source": [
    "## Partie I-1- Classificateur normal/pneumo"
   ]
  },
  {
   "cell_type": "markdown",
   "id": "b75450fe-0aae-4c09-9200-945edeff2b24",
   "metadata": {},
   "source": [
    "### Etablissement des différents datasets test/entrainement pour le classificateur normal/pneumo"
   ]
  },
  {
   "cell_type": "code",
   "execution_count": 7,
   "id": "eebcdf46-6fbb-4eb1-a547-df3586873e38",
   "metadata": {
    "tags": []
   },
   "outputs": [
    {
     "name": "stdout",
     "output_type": "stream",
     "text": [
      "Nombre de lignes dans l'ensemble d'entraînement et de validation : 2016\n",
      "Nombre de lignes dans l'ensemble de test : 505\n",
      "Nombre de lignes dans l'ensemble d'entraînement : 1612\n",
      "Nombre de lignes dans l'ensemble de validation : 404\n"
     ]
    }
   ],
   "source": [
    "df_np_train, df_np_test = train_test_split(df_train_np, test_size=0.2, random_state=168)\n",
    "train_np_df, val_np_df = train_test_split(df_np_train, test_size=0.2, random_state= 761)\n",
    "# Afficher le nombre de lignes de chaque ensemble de données\n",
    "print('Nombre de lignes dans l\\'ensemble d\\'entraînement et de validation :', len(df_np_train))\n",
    "print('Nombre de lignes dans l\\'ensemble de test :', len(df_np_test))\n",
    "print('Nombre de lignes dans l\\'ensemble d\\'entraînement :', len(train_np_df))\n",
    "print('Nombre de lignes dans l\\'ensemble de validation :', len(val_np_df))"
   ]
  },
  {
   "cell_type": "markdown",
   "id": "1f613452-b1cc-4559-bb00-2cd0bad09c45",
   "metadata": {},
   "source": [
    "### Etablissement des génerateurs pour le classificateur normal/pneumo"
   ]
  },
  {
   "cell_type": "code",
   "execution_count": 53,
   "id": "2460c1cc-904e-489f-a24c-694b8ace4f94",
   "metadata": {
    "tags": []
   },
   "outputs": [],
   "source": [
    "# les index ont besoin d'etre réinitialiser pour éviter les erreurs lors de l'appel par le générateur\n",
    "train_np_df=train_np_df.reset_index(drop= True)\n",
    "val_np_df=val_np_df.reset_index(drop= True)\n",
    "# les générateurs définissent le batch size ici fixé à 32\n",
    "train_np_generator=CustomDataGenerator(train_np_df, batch_size=32)\n",
    "valid_np_generator=CustomDataGenerator_valid(val_np_df, batch_size=32)"
   ]
  },
  {
   "cell_type": "markdown",
   "id": "f8cafde0-97a5-4849-9887-6a303521b068",
   "metadata": {},
   "source": [
    "### Etablissement du modele et des hyperparametres pour le classificateur normal/pneumo"
   ]
  },
  {
   "cell_type": "code",
   "execution_count": 41,
   "id": "c415da05-aff0-4a1e-a7d5-8db7d77b2b72",
   "metadata": {
    "tags": []
   },
   "outputs": [
    {
     "name": "stdout",
     "output_type": "stream",
     "text": [
      "Model: \"model_7\"\n",
      "_________________________________________________________________\n",
      " Layer (type)                Output Shape              Param #   \n",
      "=================================================================\n",
      " input_8 (InputLayer)        [(None, 256, 256, 1)]     0         \n",
      "                                                                 \n",
      " conv2d_84 (Conv2D)          (None, 256, 256, 8)       208       \n",
      "                                                                 \n",
      " conv2d_85 (Conv2D)          (None, 256, 256, 8)       1608      \n",
      "                                                                 \n",
      " max_pooling2d_35 (MaxPoolin  (None, 128, 128, 8)      0         \n",
      " g2D)                                                            \n",
      "                                                                 \n",
      " conv2d_86 (Conv2D)          (None, 128, 128, 16)      3216      \n",
      "                                                                 \n",
      " conv2d_87 (Conv2D)          (None, 128, 128, 16)      2320      \n",
      "                                                                 \n",
      " max_pooling2d_36 (MaxPoolin  (None, 64, 64, 16)       0         \n",
      " g2D)                                                            \n",
      "                                                                 \n",
      " conv2d_88 (Conv2D)          (None, 64, 64, 32)        4640      \n",
      "                                                                 \n",
      " conv2d_89 (Conv2D)          (None, 64, 64, 32)        9248      \n",
      "                                                                 \n",
      " max_pooling2d_37 (MaxPoolin  (None, 32, 32, 32)       0         \n",
      " g2D)                                                            \n",
      "                                                                 \n",
      " conv2d_90 (Conv2D)          (None, 32, 32, 64)        18496     \n",
      "                                                                 \n",
      " conv2d_91 (Conv2D)          (None, 32, 32, 64)        36928     \n",
      "                                                                 \n",
      " max_pooling2d_38 (MaxPoolin  (None, 16, 16, 64)       0         \n",
      " g2D)                                                            \n",
      "                                                                 \n",
      " conv2d_92 (Conv2D)          (None, 16, 16, 128)       73856     \n",
      "                                                                 \n",
      " conv2d_93 (Conv2D)          (None, 16, 16, 128)       147584    \n",
      "                                                                 \n",
      " conv2d_94 (Conv2D)          (None, 16, 16, 128)       147584    \n",
      "                                                                 \n",
      " conv2d_95 (Conv2D)          (None, 16, 16, 128)       147584    \n",
      "                                                                 \n",
      " max_pooling2d_39 (MaxPoolin  (None, 8, 8, 128)        0         \n",
      " g2D)                                                            \n",
      "                                                                 \n",
      " flatten_7 (Flatten)         (None, 8192)              0         \n",
      "                                                                 \n",
      " dense_21 (Dense)            (None, 512)               4194816   \n",
      "                                                                 \n",
      " dense_22 (Dense)            (None, 256)               131328    \n",
      "                                                                 \n",
      " dense_23 (Dense)            (None, 1)                 257       \n",
      "                                                                 \n",
      "=================================================================\n",
      "Total params: 4,919,673\n",
      "Trainable params: 4,919,673\n",
      "Non-trainable params: 0\n",
      "_________________________________________________________________\n"
     ]
    }
   ],
   "source": [
    "# parametre les dimensions des images \n",
    "img_width, img_height, channels = 256, 256, 1\n",
    "\n",
    "\n",
    "# definition de la couche d'entrée\n",
    "inputs = Input(shape=(img_width, img_height, channels))\n",
    "\n",
    "# Blocs de convolution\n",
    "\n",
    "conv1 = Conv2D(filters=8, kernel_size=5, activation='relu', padding='same',kernel_initializer='he_normal', kernel_regularizer=l2(0.01))(inputs)\n",
    "conv2 = Conv2D(filters=8, kernel_size=5, activation='relu', padding='same',kernel_initializer='he_normal', kernel_regularizer=l2(0.01))(conv1)\n",
    "pool1 = MaxPooling2D((2, 2))(conv2)\n",
    "\n",
    "conv3 = Conv2D(filters=16, kernel_size=5, activation='relu', padding='same',kernel_initializer='he_normal', kernel_regularizer=l2(0.01))(pool1)\n",
    "conv4 = Conv2D(filters=16, kernel_size=3, activation='relu',padding='same',kernel_initializer='he_normal', kernel_regularizer=l2(0.01))(conv3)\n",
    "pool2 = MaxPooling2D((2, 2))(conv4)\n",
    "\n",
    "conv5 = Conv2D(filters=32, kernel_size=3, activation='relu',padding='same',kernel_initializer='he_normal', kernel_regularizer=l2(0.01))(pool2)\n",
    "conv6 = Conv2D(filters=32, kernel_size=3, activation='relu',padding='same',kernel_initializer='he_normal', kernel_regularizer=l2(0.01))(conv5)\n",
    "pool3 = MaxPooling2D((2, 2))(conv6)\n",
    "\n",
    "conv7 = Conv2D(filters=64, kernel_size=3, activation='relu',padding='same',kernel_initializer='he_normal', kernel_regularizer=l2(0.01))(pool3)\n",
    "conv8 = Conv2D(filters=64, kernel_size=3, activation='relu',padding='same',kernel_initializer='he_normal', kernel_regularizer=l2(0.01))(conv7)\n",
    "pool4 = MaxPooling2D((2, 2))(conv8)\n",
    "\n",
    "conv9 = Conv2D(filters=128, kernel_size=3, activation='relu',padding='same',kernel_initializer='he_normal', kernel_regularizer=l2(0.01))(pool4)\n",
    "conv10 = Conv2D(filters=128, kernel_size=3, activation='relu',padding='same',kernel_initializer='he_normal', kernel_regularizer=l2(0.01))(conv9)\n",
    "conv11 = Conv2D(filters=128, kernel_size=3, activation='relu',padding='same',kernel_initializer='he_normal', kernel_regularizer=l2(0.01))(conv10)\n",
    "conv12 = Conv2D(filters=128, kernel_size=3, activation='relu',padding='same',kernel_initializer='he_normal', kernel_regularizer=l2(0.01))(conv11)\n",
    "pool5 = MaxPooling2D((2, 2))(conv12)\n",
    "\n",
    "\n",
    "# definition du réseau 'fully connected'\n",
    "flatten = Flatten()(pool5)\n",
    "fc1 = Dense(512, activation='relu',kernel_initializer='he_normal',kernel_regularizer=l2(0.01))(flatten)\n",
    "fc2 = Dense(256, activation='relu',kernel_initializer='he_normal',kernel_regularizer=l2(0.01))(fc1)\n",
    "outputs = Dense(1, activation='sigmoid')(fc2)\n",
    "\n",
    "# creation du modele\n",
    "model_np = Model(inputs=inputs, outputs=outputs)\n",
    "\n",
    "# creation de l'optimiseur\n",
    "opt = Adam(learning_rate = 0.0001,epsilon=0.1)\n",
    "# compilation du modele\n",
    "model_np.compile(loss='binary_crossentropy', optimizer=opt, metrics=['accuracy'])\n",
    "model_np.summary()"
   ]
  },
  {
   "cell_type": "code",
   "execution_count": 42,
   "id": "4e629314-2eeb-4782-b000-73f2901e0957",
   "metadata": {
    "tags": []
   },
   "outputs": [],
   "source": [
    "# Création d'un objet ReduceLROnPlateau\n",
    "reduce_lr = ReduceLROnPlateau(monitor='val_loss', factor=0.1, patience=3, min_lr=0.00001)\n",
    "# Création d'un objet EarlyStopping\n",
    "early_stop = EarlyStopping(monitor='accuracy', patience=8, verbose=1, restore_best_weights=True)"
   ]
  },
  {
   "cell_type": "markdown",
   "id": "fa8cb247-c20b-47a7-81ef-f67ced43674b",
   "metadata": {},
   "source": [
    "### Entrainement du modele de classification normal/pneumo"
   ]
  },
  {
   "cell_type": "code",
   "execution_count": 43,
   "id": "6928120a-fdc3-4279-b451-b37d30d61b75",
   "metadata": {
    "tags": []
   },
   "outputs": [
    {
     "name": "stdout",
     "output_type": "stream",
     "text": [
      "Epoch 1/20\n",
      "51/51 [==============================] - 53s 927ms/step - loss: 31.0755 - accuracy: 0.5602 - val_loss: 31.0667 - val_accuracy: 0.5297 - lr: 1.0000e-04\n",
      "Epoch 2/20\n",
      "51/51 [==============================] - 48s 938ms/step - loss: 31.0533 - accuracy: 0.5620 - val_loss: 31.0394 - val_accuracy: 0.5297 - lr: 1.0000e-04\n",
      "Epoch 3/20\n",
      "51/51 [==============================] - 47s 914ms/step - loss: 31.0230 - accuracy: 0.5620 - val_loss: 31.0057 - val_accuracy: 0.5297 - lr: 1.0000e-04\n",
      "Epoch 4/20\n",
      "51/51 [==============================] - 48s 940ms/step - loss: 30.9909 - accuracy: 0.5682 - val_loss: 30.9632 - val_accuracy: 0.5594 - lr: 1.0000e-04\n",
      "Epoch 5/20\n",
      "51/51 [==============================] - 47s 925ms/step - loss: 30.9495 - accuracy: 0.5850 - val_loss: 30.9125 - val_accuracy: 0.6535 - lr: 1.0000e-04\n",
      "Epoch 6/20\n",
      "51/51 [==============================] - 46s 907ms/step - loss: 30.9012 - accuracy: 0.6452 - val_loss: 30.8555 - val_accuracy: 0.7178 - lr: 1.0000e-04\n",
      "Epoch 7/20\n",
      "51/51 [==============================] - 48s 935ms/step - loss: 30.8448 - accuracy: 0.7215 - val_loss: 30.7889 - val_accuracy: 0.8144 - lr: 1.0000e-04\n",
      "Epoch 8/20\n",
      "51/51 [==============================] - 47s 928ms/step - loss: 30.7772 - accuracy: 0.7934 - val_loss: 30.7076 - val_accuracy: 0.8762 - lr: 1.0000e-04\n",
      "Epoch 9/20\n",
      "51/51 [==============================] - 47s 930ms/step - loss: 30.7007 - accuracy: 0.8164 - val_loss: 30.6166 - val_accuracy: 0.9084 - lr: 1.0000e-04\n",
      "Epoch 10/20\n",
      "51/51 [==============================] - 49s 961ms/step - loss: 30.6074 - accuracy: 0.8431 - val_loss: 30.5149 - val_accuracy: 0.9084 - lr: 1.0000e-04\n",
      "Epoch 11/20\n",
      "51/51 [==============================] - 48s 953ms/step - loss: 30.5063 - accuracy: 0.8579 - val_loss: 30.3992 - val_accuracy: 0.9381 - lr: 1.0000e-04\n",
      "Epoch 12/20\n",
      "51/51 [==============================] - 49s 956ms/step - loss: 30.4277 - accuracy: 0.8648 - val_loss: 30.3144 - val_accuracy: 0.9381 - lr: 1.0000e-04\n",
      "Epoch 13/20\n",
      "51/51 [==============================] - 49s 968ms/step - loss: 30.3375 - accuracy: 0.8908 - val_loss: 30.3002 - val_accuracy: 0.8762 - lr: 1.0000e-04\n",
      "Epoch 14/20\n",
      "51/51 [==============================] - 50s 977ms/step - loss: 30.2687 - accuracy: 0.8939 - val_loss: 30.1767 - val_accuracy: 0.9381 - lr: 1.0000e-04\n",
      "Epoch 15/20\n",
      "51/51 [==============================] - 49s 952ms/step - loss: 30.2064 - accuracy: 0.9082 - val_loss: 30.2007 - val_accuracy: 0.9059 - lr: 1.0000e-04\n",
      "Epoch 16/20\n",
      "51/51 [==============================] - 46s 907ms/step - loss: 30.1395 - accuracy: 0.9237 - val_loss: 30.1217 - val_accuracy: 0.9059 - lr: 1.0000e-04\n",
      "Epoch 17/20\n",
      "51/51 [==============================] - 48s 941ms/step - loss: 30.0695 - accuracy: 0.9274 - val_loss: 30.1688 - val_accuracy: 0.8119 - lr: 1.0000e-04\n",
      "Epoch 18/20\n",
      "51/51 [==============================] - 47s 925ms/step - loss: 30.0333 - accuracy: 0.9100 - val_loss: 29.9902 - val_accuracy: 0.9356 - lr: 1.0000e-04\n",
      "Epoch 19/20\n",
      "51/51 [==============================] - 48s 947ms/step - loss: 30.0218 - accuracy: 0.8939 - val_loss: 29.9780 - val_accuracy: 0.9059 - lr: 1.0000e-04\n",
      "Epoch 20/20\n",
      "51/51 [==============================] - 49s 964ms/step - loss: 29.9057 - accuracy: 0.9435 - val_loss: 29.8890 - val_accuracy: 0.9356 - lr: 1.0000e-04\n"
     ]
    }
   ],
   "source": [
    "history_model_np = model_np.fit(train_np_generator, epochs=20, validation_data=valid_np_generator,callbacks=[reduce_lr,early_stop])"
   ]
  },
  {
   "cell_type": "markdown",
   "id": "a01cd542-d069-4caa-8916-edbacc4dcce9",
   "metadata": {},
   "source": [
    "### Calcul des prediction sur l'ensemble de test normal/pneumo"
   ]
  },
  {
   "cell_type": "code",
   "execution_count": 44,
   "id": "65196afa-de6e-4fec-9a73-90acaa896133",
   "metadata": {
    "tags": []
   },
   "outputs": [],
   "source": [
    "y_pred_liste=[]\n",
    "y_true_liste=[]\n",
    "y_pred_binary_liste=[]\n",
    "df_np_test = df_np_test.reset_index(drop=True)\n",
    "\n",
    "for i in range(len(df_np_test[\"path\"])):\n",
    "    x = tensorflow.keras.utils.load_img(df_np_test[\"path\"][i], target_size=(232,232), color_mode='grayscale')\n",
    "    x = tensorflow.keras.preprocessing.image.img_to_array(x)\n",
    "    x = x.astype(np.uint16)\n",
    "    x = cv2.resize(x, dsize= (256,256), interpolation=cv2.INTER_CUBIC)\n",
    "    x = np.reshape(x,(256,256,1)).astype('float32') / 255\n",
    "    x=np.resize(x, (1, *(256,256),1))\n",
    "    y= df_np_test[\"label\"][i]\n",
    "    y= np.resize(y, (1, 1))\n",
    "    y_pred = model_np.predict(x,verbose= 0)\n",
    "    y_pred_binary = np.round(y_pred).astype(int)\n",
    "    y_pred_liste.extend(y_pred)\n",
    "    y_pred_binary_liste.extend(y_pred_binary)\n",
    "    y_true_liste.extend(y)"
   ]
  },
  {
   "cell_type": "code",
   "execution_count": 45,
   "id": "aafc3a08-3d38-4755-9cd2-19d0eae2f80f",
   "metadata": {
    "tags": []
   },
   "outputs": [
    {
     "name": "stdout",
     "output_type": "stream",
     "text": [
      "col_0    0    1\n",
      "row_0          \n",
      "0      237    7\n",
      "1       58  203\n"
     ]
    }
   ],
   "source": [
    "y_pred_liste = np.reshape(y_pred_liste, (505))\n",
    "y_true_liste = np.reshape(y_true_liste, (505))\n",
    "y_pred_binary_liste = np.reshape(y_pred_binary_liste, (505))\n",
    "print(pd.crosstab(y_true_liste, y_pred_binary_liste))"
   ]
  },
  {
   "cell_type": "markdown",
   "id": "837081a0-d613-4d0c-8666-e7ae39379ef6",
   "metadata": {
    "tags": []
   },
   "source": [
    "### Sauvegarde du modele"
   ]
  },
  {
   "cell_type": "code",
   "execution_count": 46,
   "id": "8788ff19-7ba7-4107-a68f-9511ac8ce349",
   "metadata": {
    "tags": []
   },
   "outputs": [],
   "source": [
    "model_np.save('clasificateur_normal_pneumo_2_87percent.h5')"
   ]
  },
  {
   "cell_type": "code",
   "execution_count": null,
   "id": "fcb24d4a-bb44-4691-bbca-315486fa83f7",
   "metadata": {},
   "outputs": [],
   "source": []
  },
  {
   "cell_type": "markdown",
   "id": "6b09dfc9-5d44-4889-a0b7-9c5a25a96ed0",
   "metadata": {
    "tags": []
   },
   "source": [
    "## Partie I-2- Classificateur normal/covid"
   ]
  },
  {
   "cell_type": "markdown",
   "id": "ca5b5435-a023-4823-b1d2-8b70a27acba8",
   "metadata": {},
   "source": [
    "### Etablissement des différents datasets test/entrainement pour le classificateur normal/covid"
   ]
  },
  {
   "cell_type": "code",
   "execution_count": 48,
   "id": "a0c26694-7d40-46e7-9a5d-f6600625bd17",
   "metadata": {
    "tags": []
   },
   "outputs": [
    {
     "name": "stdout",
     "output_type": "stream",
     "text": [
      "Nombre de lignes dans l'ensemble d'entraînement et de validation : 1919\n",
      "Nombre de lignes dans l'ensemble de test : 480\n",
      "Nombre de lignes dans l'ensemble d'entraînement : 1535\n",
      "Nombre de lignes dans l'ensemble de validation : 384\n"
     ]
    }
   ],
   "source": [
    "df_nc_train, df_nc_test = train_test_split(df_train_nc, test_size=0.2, random_state=168)\n",
    "train_nc_df, val_nc_df = train_test_split(df_nc_train, test_size=0.2, random_state= 761)\n",
    "# Afficher le nombre de lignes de chaque ensemble de données\n",
    "print('Nombre de lignes dans l\\'ensemble d\\'entraînement et de validation :', len(df_nc_train))\n",
    "print('Nombre de lignes dans l\\'ensemble de test :', len(df_nc_test))\n",
    "print('Nombre de lignes dans l\\'ensemble d\\'entraînement :', len(train_nc_df))\n",
    "print('Nombre de lignes dans l\\'ensemble de validation :', len(val_nc_df))\n"
   ]
  },
  {
   "cell_type": "markdown",
   "id": "c18d158f-be83-41a0-8f56-459d3ad54011",
   "metadata": {
    "tags": []
   },
   "source": [
    "### Etablissement des génerateurs pour le classificateur normal/covid"
   ]
  },
  {
   "cell_type": "code",
   "execution_count": 54,
   "id": "66ce341e-86e7-4df4-8384-416d042950d1",
   "metadata": {
    "tags": []
   },
   "outputs": [],
   "source": [
    "train_nc_df=train_nc_df.reset_index(drop= True)\n",
    "val_nc_df=val_nc_df.reset_index(drop= True)\n",
    "train_nc_generator=CustomDataGenerator(train_nc_df, batch_size=32)\n",
    "valid_nc_generator=CustomDataGenerator_valid(val_nc_df, batch_size=32)"
   ]
  },
  {
   "cell_type": "markdown",
   "id": "7c396384-86f1-41ad-abd4-3b2cd9b69e04",
   "metadata": {},
   "source": [
    "### Etablissement du modele et des hyperparametres pour le classificateur normal/covid"
   ]
  },
  {
   "cell_type": "code",
   "execution_count": 63,
   "id": "6ae6e6b7-b975-40f1-81cb-4e42f03bc96e",
   "metadata": {
    "tags": []
   },
   "outputs": [
    {
     "name": "stdout",
     "output_type": "stream",
     "text": [
      "Model: \"model_9\"\n",
      "_________________________________________________________________\n",
      " Layer (type)                Output Shape              Param #   \n",
      "=================================================================\n",
      " input_10 (InputLayer)       [(None, 256, 256, 1)]     0         \n",
      "                                                                 \n",
      " conv2d_108 (Conv2D)         (None, 256, 256, 8)       208       \n",
      "                                                                 \n",
      " conv2d_109 (Conv2D)         (None, 256, 256, 8)       1608      \n",
      "                                                                 \n",
      " max_pooling2d_45 (MaxPoolin  (None, 128, 128, 8)      0         \n",
      " g2D)                                                            \n",
      "                                                                 \n",
      " conv2d_110 (Conv2D)         (None, 128, 128, 16)      3216      \n",
      "                                                                 \n",
      " conv2d_111 (Conv2D)         (None, 128, 128, 16)      2320      \n",
      "                                                                 \n",
      " max_pooling2d_46 (MaxPoolin  (None, 64, 64, 16)       0         \n",
      " g2D)                                                            \n",
      "                                                                 \n",
      " conv2d_112 (Conv2D)         (None, 64, 64, 32)        4640      \n",
      "                                                                 \n",
      " conv2d_113 (Conv2D)         (None, 64, 64, 32)        9248      \n",
      "                                                                 \n",
      " max_pooling2d_47 (MaxPoolin  (None, 32, 32, 32)       0         \n",
      " g2D)                                                            \n",
      "                                                                 \n",
      " conv2d_114 (Conv2D)         (None, 32, 32, 64)        18496     \n",
      "                                                                 \n",
      " conv2d_115 (Conv2D)         (None, 32, 32, 64)        36928     \n",
      "                                                                 \n",
      " max_pooling2d_48 (MaxPoolin  (None, 16, 16, 64)       0         \n",
      " g2D)                                                            \n",
      "                                                                 \n",
      " conv2d_116 (Conv2D)         (None, 16, 16, 128)       73856     \n",
      "                                                                 \n",
      " conv2d_117 (Conv2D)         (None, 16, 16, 128)       147584    \n",
      "                                                                 \n",
      " conv2d_118 (Conv2D)         (None, 16, 16, 128)       147584    \n",
      "                                                                 \n",
      " conv2d_119 (Conv2D)         (None, 16, 16, 128)       147584    \n",
      "                                                                 \n",
      " max_pooling2d_49 (MaxPoolin  (None, 8, 8, 128)        0         \n",
      " g2D)                                                            \n",
      "                                                                 \n",
      " flatten_9 (Flatten)         (None, 8192)              0         \n",
      "                                                                 \n",
      " dense_27 (Dense)            (None, 512)               4194816   \n",
      "                                                                 \n",
      " dense_28 (Dense)            (None, 256)               131328    \n",
      "                                                                 \n",
      " dense_29 (Dense)            (None, 1)                 257       \n",
      "                                                                 \n",
      "=================================================================\n",
      "Total params: 4,919,673\n",
      "Trainable params: 4,919,673\n",
      "Non-trainable params: 0\n",
      "_________________________________________________________________\n"
     ]
    }
   ],
   "source": [
    "# parametre les dimensions des images \n",
    "img_width, img_height, channels = 256, 256, 1\n",
    "\n",
    "\n",
    "# definition de la couche d'entrée\n",
    "inputs = Input(shape=(img_width, img_height, channels))\n",
    "\n",
    "# Blocs de convolution\n",
    "\n",
    "conv1 = Conv2D(filters=8, kernel_size=5, activation='relu', padding='same',kernel_initializer='he_normal', kernel_regularizer=l2(0.01))(inputs)\n",
    "conv2 = Conv2D(filters=8, kernel_size=5, activation='relu', padding='same',kernel_initializer='he_normal', kernel_regularizer=l2(0.01))(conv1)\n",
    "pool1 = MaxPooling2D((2, 2))(conv2)\n",
    "\n",
    "conv3 = Conv2D(filters=16, kernel_size=5, activation='relu', padding='same',kernel_initializer='he_normal', kernel_regularizer=l2(0.01))(pool1)\n",
    "conv4 = Conv2D(filters=16, kernel_size=3, activation='relu',padding='same',kernel_initializer='he_normal', kernel_regularizer=l2(0.01))(conv3)\n",
    "pool2 = MaxPooling2D((2, 2))(conv4)\n",
    "\n",
    "conv5 = Conv2D(filters=32, kernel_size=3, activation='relu',padding='same',kernel_initializer='he_normal', kernel_regularizer=l2(0.01))(pool2)\n",
    "conv6 = Conv2D(filters=32, kernel_size=3, activation='relu',padding='same',kernel_initializer='he_normal', kernel_regularizer=l2(0.01))(conv5)\n",
    "pool3 = MaxPooling2D((2, 2))(conv6)\n",
    "\n",
    "conv7 = Conv2D(filters=64, kernel_size=3, activation='relu',padding='same',kernel_initializer='he_normal', kernel_regularizer=l2(0.01))(pool3)\n",
    "conv8 = Conv2D(filters=64, kernel_size=3, activation='relu',padding='same',kernel_initializer='he_normal', kernel_regularizer=l2(0.01))(conv7)\n",
    "pool4 = MaxPooling2D((2, 2))(conv8)\n",
    "\n",
    "conv9 = Conv2D(filters=128, kernel_size=3, activation='relu',padding='same',kernel_initializer='he_normal', kernel_regularizer=l2(0.01))(pool4)\n",
    "conv10 = Conv2D(filters=128, kernel_size=3, activation='relu',padding='same',kernel_initializer='he_normal', kernel_regularizer=l2(0.01))(conv9)\n",
    "conv11 = Conv2D(filters=128, kernel_size=3, activation='relu',padding='same',kernel_initializer='he_normal', kernel_regularizer=l2(0.01))(conv10)\n",
    "conv12 = Conv2D(filters=128, kernel_size=3, activation='relu',padding='same',kernel_initializer='he_normal', kernel_regularizer=l2(0.01))(conv11)\n",
    "pool5 = MaxPooling2D((2, 2))(conv12)\n",
    "\n",
    "\n",
    "# definition du réseau 'fully connected'\n",
    "flatten = Flatten()(pool5)\n",
    "fc1 = Dense(512, activation='relu',kernel_initializer='he_normal',kernel_regularizer=l2(0.01))(flatten)\n",
    "fc2 = Dense(256, activation='relu',kernel_initializer='he_normal',kernel_regularizer=l2(0.01))(fc1)\n",
    "outputs = Dense(1, activation='sigmoid')(fc2)\n",
    "\n",
    "# creation du modele\n",
    "model_nc = Model(inputs=inputs, outputs=outputs)\n",
    "\n",
    "# creation de l'optimiseur\n",
    "opt = Adam(learning_rate = 0.0001,epsilon=0.1)\n",
    "# compilation du modele\n",
    "model_nc.compile(loss='binary_crossentropy', optimizer=opt, metrics=['accuracy'])\n",
    "model_nc.summary()"
   ]
  },
  {
   "cell_type": "markdown",
   "id": "9697692c-ab11-45f4-9feb-4b729f49526e",
   "metadata": {},
   "source": [
    " ### Entrainement du modele de classification normal/covid"
   ]
  },
  {
   "cell_type": "code",
   "execution_count": 64,
   "id": "86e5a3cc-343c-40e6-9f6a-4bd79970047c",
   "metadata": {
    "tags": []
   },
   "outputs": [
    {
     "name": "stdout",
     "output_type": "stream",
     "text": [
      "Epoch 1/20\n",
      "48/48 [==============================] - 50s 952ms/step - loss: 31.0367 - accuracy: 0.6313 - val_loss: 30.8993 - val_accuracy: 0.7500 - lr: 1.0000e-04\n",
      "Epoch 2/20\n",
      "48/48 [==============================] - 46s 967ms/step - loss: 30.8610 - accuracy: 0.8182 - val_loss: 30.6882 - val_accuracy: 1.0000 - lr: 1.0000e-04\n",
      "Epoch 3/20\n",
      "48/48 [==============================] - 45s 933ms/step - loss: 30.7251 - accuracy: 0.8684 - val_loss: 30.5324 - val_accuracy: 1.0000 - lr: 1.0000e-04\n",
      "Epoch 4/20\n",
      "48/48 [==============================] - 45s 945ms/step - loss: 30.6221 - accuracy: 0.8925 - val_loss: 30.4311 - val_accuracy: 1.0000 - lr: 1.0000e-04\n",
      "Epoch 5/20\n",
      "48/48 [==============================] - 46s 963ms/step - loss: 30.5464 - accuracy: 0.9147 - val_loss: 30.3754 - val_accuracy: 1.0000 - lr: 1.0000e-04\n",
      "Epoch 6/20\n",
      "48/48 [==============================] - 45s 944ms/step - loss: 30.5058 - accuracy: 0.9127 - val_loss: 30.3275 - val_accuracy: 1.0000 - lr: 1.0000e-04\n",
      "Epoch 7/20\n",
      "48/48 [==============================] - 45s 935ms/step - loss: 30.4537 - accuracy: 0.9199 - val_loss: 30.2890 - val_accuracy: 1.0000 - lr: 1.0000e-04\n",
      "Epoch 8/20\n",
      "48/48 [==============================] - 45s 943ms/step - loss: 30.4057 - accuracy: 0.9257 - val_loss: 30.2507 - val_accuracy: 1.0000 - lr: 1.0000e-04\n",
      "Epoch 9/20\n",
      "48/48 [==============================] - 45s 940ms/step - loss: 30.3798 - accuracy: 0.9225 - val_loss: 30.2346 - val_accuracy: 1.0000 - lr: 1.0000e-04\n",
      "Epoch 10/20\n",
      "48/48 [==============================] - 44s 921ms/step - loss: 30.3281 - accuracy: 0.9290 - val_loss: 30.2115 - val_accuracy: 0.9688 - lr: 1.0000e-04\n",
      "Epoch 11/20\n",
      "48/48 [==============================] - 44s 912ms/step - loss: 30.2807 - accuracy: 0.9394 - val_loss: 30.1564 - val_accuracy: 1.0000 - lr: 1.0000e-04\n",
      "Epoch 12/20\n",
      "48/48 [==============================] - 45s 944ms/step - loss: 30.2419 - accuracy: 0.9375 - val_loss: 30.1080 - val_accuracy: 1.0000 - lr: 1.0000e-04\n",
      "Epoch 13/20\n",
      "48/48 [==============================] - 45s 930ms/step - loss: 30.1904 - accuracy: 0.9511 - val_loss: 30.0693 - val_accuracy: 1.0000 - lr: 1.0000e-04\n",
      "Epoch 14/20\n",
      "48/48 [==============================] - 45s 929ms/step - loss: 30.1340 - accuracy: 0.9524 - val_loss: 30.0622 - val_accuracy: 1.0000 - lr: 1.0000e-04\n",
      "Epoch 15/20\n",
      "48/48 [==============================] - 44s 921ms/step - loss: 30.1000 - accuracy: 0.9511 - val_loss: 29.9815 - val_accuracy: 1.0000 - lr: 1.0000e-04\n",
      "Epoch 16/20\n",
      "48/48 [==============================] - 44s 912ms/step - loss: 30.0580 - accuracy: 0.9596 - val_loss: 29.9581 - val_accuracy: 1.0000 - lr: 1.0000e-04\n",
      "Epoch 17/20\n",
      "48/48 [==============================] - 44s 912ms/step - loss: 30.0516 - accuracy: 0.9381 - val_loss: 29.8958 - val_accuracy: 1.0000 - lr: 1.0000e-04\n",
      "Epoch 18/20\n",
      "48/48 [==============================] - 44s 916ms/step - loss: 29.9719 - accuracy: 0.9577 - val_loss: 29.8692 - val_accuracy: 1.0000 - lr: 1.0000e-04\n",
      "Epoch 19/20\n",
      "48/48 [==============================] - 43s 902ms/step - loss: 29.9247 - accuracy: 0.9583 - val_loss: 29.8225 - val_accuracy: 1.0000 - lr: 1.0000e-04\n",
      "Epoch 20/20\n",
      "48/48 [==============================] - 44s 906ms/step - loss: 29.8855 - accuracy: 0.9596 - val_loss: 29.7662 - val_accuracy: 1.0000 - lr: 1.0000e-04\n"
     ]
    }
   ],
   "source": [
    "history_model_nc = model_nc.fit(train_nc_generator, epochs=20, validation_data=valid_nc_generator,callbacks=[reduce_lr,early_stop])"
   ]
  },
  {
   "cell_type": "markdown",
   "id": "2cd3c831-d2ad-48b3-b5a9-0647bc76aecc",
   "metadata": {
    "tags": []
   },
   "source": [
    "### Calcul des prediction sur l'ensemble de test normal/covid"
   ]
  },
  {
   "cell_type": "code",
   "execution_count": 65,
   "id": "f4bade2d-6c35-4a0d-bf12-b588125768de",
   "metadata": {
    "tags": []
   },
   "outputs": [],
   "source": [
    "df_nc_test = df_nc_test.reset_index(drop=True)\n",
    "y_pred_liste_nc=[]\n",
    "y_true_liste_nc=[]\n",
    "y_pred_binary_liste_nc=[]\n",
    "df_nc_test = df_nc_test.reset_index(drop=True)\n",
    "\n",
    "for i in range(len(df_nc_test[\"path\"])):\n",
    "    x = tensorflow.keras.utils.load_img(df_nc_test[\"path\"][i], target_size=(232,232), color_mode='grayscale')\n",
    "    x = tensorflow.keras.preprocessing.image.img_to_array(x)\n",
    "    x = x.astype(np.uint16)\n",
    "    x = cv2.resize(x, dsize= (256,256), interpolation=cv2.INTER_CUBIC)\n",
    "    x = np.reshape(x,(256,256,1)).astype('float32') / 255\n",
    "    x=np.resize(x, (1, *(256,256),1))\n",
    "    y= df_nc_test[\"label\"][i]\n",
    "    y= np.resize(y, (1, 1))\n",
    "    y_pred = model_nc.predict(x,verbose= 0)\n",
    "    y_pred_binary = np.round(y_pred).astype(int)\n",
    "    y_pred_liste_nc.extend(y_pred)\n",
    "    y_pred_binary_liste_nc.extend(y_pred_binary)\n",
    "    y_true_liste_nc.extend(y)"
   ]
  },
  {
   "cell_type": "code",
   "execution_count": 66,
   "id": "ae13eadb-9e53-4e60-b7eb-02719b3a9deb",
   "metadata": {
    "tags": []
   },
   "outputs": [
    {
     "name": "stdout",
     "output_type": "stream",
     "text": [
      "col_0    0    1\n",
      "row_0          \n",
      "0      237    5\n",
      "1       16  222\n"
     ]
    }
   ],
   "source": [
    "y_pred_liste_nc = np.reshape(y_pred_liste_nc, (480))\n",
    "y_true_liste_nc = np.reshape(y_true_liste_nc, (480))\n",
    "y_pred_binary_liste_nc = np.reshape(y_pred_binary_liste_nc, (480))\n",
    "print(pd.crosstab(y_true_liste_nc, y_pred_binary_liste_nc))"
   ]
  },
  {
   "cell_type": "markdown",
   "id": "84325477-7cdb-472c-a865-ddca15277269",
   "metadata": {},
   "source": [
    "### Sauvegarde du modele"
   ]
  },
  {
   "cell_type": "code",
   "execution_count": 67,
   "id": "fb48fb72-a860-4e62-be03-2ff1fdfb5fe9",
   "metadata": {
    "tags": []
   },
   "outputs": [],
   "source": [
    "model_nc.save('clasificateur_normal_covid_2_95percent.h5')"
   ]
  },
  {
   "cell_type": "code",
   "execution_count": null,
   "id": "73a55040-d88e-4a2c-8544-a922ba1588f4",
   "metadata": {},
   "outputs": [],
   "source": []
  },
  {
   "cell_type": "markdown",
   "id": "1d8e35fb-e4fe-4f9d-ab9b-e0f384a64fb8",
   "metadata": {},
   "source": [
    "## Partie I-3- Classificateur normal/covid"
   ]
  },
  {
   "cell_type": "markdown",
   "id": "9619185b-f1f4-4277-80ec-5e0fa1cf8c14",
   "metadata": {},
   "source": [
    "### Etablissement des différents datasets test/entrainement pour le classificateur pneumo/covid"
   ]
  },
  {
   "cell_type": "code",
   "execution_count": 68,
   "id": "92bb486b-3bf2-4891-abf8-3bf1e5252ea9",
   "metadata": {
    "tags": []
   },
   "outputs": [
    {
     "name": "stdout",
     "output_type": "stream",
     "text": [
      "Nombre de lignes dans l'ensemble d'entraînement et de validation : 1918\n",
      "Nombre de lignes dans l'ensemble de test : 480\n",
      "Nombre de lignes dans l'ensemble d'entraînement : 1534\n",
      "Nombre de lignes dans l'ensemble de validation : 384\n"
     ]
    }
   ],
   "source": [
    "df_pc_train, df_pc_test = train_test_split(df_train_pc, test_size=0.2, random_state=168)\n",
    "train_pc_df, val_pc_df = train_test_split(df_pc_train, test_size=0.2, random_state= 761)\n",
    "# Afficher le nombre de lignes de chaque ensemble de données\n",
    "print('Nombre de lignes dans l\\'ensemble d\\'entraînement et de validation :', len(df_pc_train))\n",
    "print('Nombre de lignes dans l\\'ensemble de test :', len(df_pc_test))\n",
    "print('Nombre de lignes dans l\\'ensemble d\\'entraînement :', len(train_pc_df))\n",
    "print('Nombre de lignes dans l\\'ensemble de validation :', len(val_pc_df))"
   ]
  },
  {
   "cell_type": "markdown",
   "id": "cffa1ee8-548f-48a7-b67c-c5c2b6cc24c6",
   "metadata": {},
   "source": [
    "### Etablissement des génerateurs pour le classificateur pneumo/covid"
   ]
  },
  {
   "cell_type": "code",
   "execution_count": 69,
   "id": "72485e0a-6c39-43b9-b821-4d984cb6253e",
   "metadata": {
    "tags": []
   },
   "outputs": [],
   "source": [
    "train_pc_df=train_pc_df.reset_index(drop= True)\n",
    "val_pc_df=val_pc_df.reset_index(drop= True)\n",
    "train_pc_generator=CustomDataGenerator(train_pc_df, batch_size=32)\n",
    "valid_pc_generator=CustomDataGenerator_valid_test(val_pc_df, batch_size=32)"
   ]
  },
  {
   "cell_type": "markdown",
   "id": "e98de173-a9f0-4f8e-9e8a-2a01fb6c4133",
   "metadata": {},
   "source": [
    "### Etablissement du modele et des hyperparametres pour le classificateur normal/covid"
   ]
  },
  {
   "cell_type": "code",
   "execution_count": 70,
   "id": "c624a560-090d-425a-97b9-248e73eeb3b9",
   "metadata": {
    "tags": []
   },
   "outputs": [
    {
     "name": "stdout",
     "output_type": "stream",
     "text": [
      "Model: \"model_10\"\n",
      "_________________________________________________________________\n",
      " Layer (type)                Output Shape              Param #   \n",
      "=================================================================\n",
      " input_11 (InputLayer)       [(None, 256, 256, 1)]     0         \n",
      "                                                                 \n",
      " conv2d_120 (Conv2D)         (None, 256, 256, 8)       208       \n",
      "                                                                 \n",
      " conv2d_121 (Conv2D)         (None, 256, 256, 8)       1608      \n",
      "                                                                 \n",
      " max_pooling2d_50 (MaxPoolin  (None, 128, 128, 8)      0         \n",
      " g2D)                                                            \n",
      "                                                                 \n",
      " conv2d_122 (Conv2D)         (None, 128, 128, 16)      3216      \n",
      "                                                                 \n",
      " conv2d_123 (Conv2D)         (None, 128, 128, 16)      2320      \n",
      "                                                                 \n",
      " max_pooling2d_51 (MaxPoolin  (None, 64, 64, 16)       0         \n",
      " g2D)                                                            \n",
      "                                                                 \n",
      " conv2d_124 (Conv2D)         (None, 64, 64, 32)        4640      \n",
      "                                                                 \n",
      " conv2d_125 (Conv2D)         (None, 64, 64, 32)        9248      \n",
      "                                                                 \n",
      " max_pooling2d_52 (MaxPoolin  (None, 32, 32, 32)       0         \n",
      " g2D)                                                            \n",
      "                                                                 \n",
      " conv2d_126 (Conv2D)         (None, 32, 32, 64)        18496     \n",
      "                                                                 \n",
      " conv2d_127 (Conv2D)         (None, 32, 32, 64)        36928     \n",
      "                                                                 \n",
      " max_pooling2d_53 (MaxPoolin  (None, 16, 16, 64)       0         \n",
      " g2D)                                                            \n",
      "                                                                 \n",
      " conv2d_128 (Conv2D)         (None, 16, 16, 128)       73856     \n",
      "                                                                 \n",
      " conv2d_129 (Conv2D)         (None, 16, 16, 128)       147584    \n",
      "                                                                 \n",
      " conv2d_130 (Conv2D)         (None, 16, 16, 128)       147584    \n",
      "                                                                 \n",
      " conv2d_131 (Conv2D)         (None, 16, 16, 128)       147584    \n",
      "                                                                 \n",
      " max_pooling2d_54 (MaxPoolin  (None, 8, 8, 128)        0         \n",
      " g2D)                                                            \n",
      "                                                                 \n",
      " flatten_10 (Flatten)        (None, 8192)              0         \n",
      "                                                                 \n",
      " dense_30 (Dense)            (None, 512)               4194816   \n",
      "                                                                 \n",
      " dense_31 (Dense)            (None, 256)               131328    \n",
      "                                                                 \n",
      " dense_32 (Dense)            (None, 1)                 257       \n",
      "                                                                 \n",
      "=================================================================\n",
      "Total params: 4,919,673\n",
      "Trainable params: 4,919,673\n",
      "Non-trainable params: 0\n",
      "_________________________________________________________________\n"
     ]
    }
   ],
   "source": [
    "# parametre les dimensions des images \n",
    "img_width, img_height, channels = 256, 256, 1\n",
    "\n",
    "\n",
    "# definition de la couche d'entrée\n",
    "inputs = Input(shape=(img_width, img_height, channels))\n",
    "\n",
    "# Blocs de convolution\n",
    "\n",
    "conv1 = Conv2D(filters=8, kernel_size=5, activation='relu', padding='same',kernel_initializer='he_normal', kernel_regularizer=l2(0.01))(inputs)\n",
    "conv2 = Conv2D(filters=8, kernel_size=5, activation='relu', padding='same',kernel_initializer='he_normal', kernel_regularizer=l2(0.01))(conv1)\n",
    "pool1 = MaxPooling2D((2, 2))(conv2)\n",
    "\n",
    "conv3 = Conv2D(filters=16, kernel_size=5, activation='relu', padding='same',kernel_initializer='he_normal', kernel_regularizer=l2(0.01))(pool1)\n",
    "conv4 = Conv2D(filters=16, kernel_size=3, activation='relu',padding='same',kernel_initializer='he_normal', kernel_regularizer=l2(0.01))(conv3)\n",
    "pool2 = MaxPooling2D((2, 2))(conv4)\n",
    "\n",
    "conv5 = Conv2D(filters=32, kernel_size=3, activation='relu',padding='same',kernel_initializer='he_normal', kernel_regularizer=l2(0.01))(pool2)\n",
    "conv6 = Conv2D(filters=32, kernel_size=3, activation='relu',padding='same',kernel_initializer='he_normal', kernel_regularizer=l2(0.01))(conv5)\n",
    "pool3 = MaxPooling2D((2, 2))(conv6)\n",
    "\n",
    "conv7 = Conv2D(filters=64, kernel_size=3, activation='relu',padding='same',kernel_initializer='he_normal', kernel_regularizer=l2(0.01))(pool3)\n",
    "conv8 = Conv2D(filters=64, kernel_size=3, activation='relu',padding='same',kernel_initializer='he_normal', kernel_regularizer=l2(0.01))(conv7)\n",
    "pool4 = MaxPooling2D((2, 2))(conv8)\n",
    "\n",
    "conv9 = Conv2D(filters=128, kernel_size=3, activation='relu',padding='same',kernel_initializer='he_normal', kernel_regularizer=l2(0.01))(pool4)\n",
    "conv10 = Conv2D(filters=128, kernel_size=3, activation='relu',padding='same',kernel_initializer='he_normal', kernel_regularizer=l2(0.01))(conv9)\n",
    "conv11 = Conv2D(filters=128, kernel_size=3, activation='relu',padding='same',kernel_initializer='he_normal', kernel_regularizer=l2(0.01))(conv10)\n",
    "conv12 = Conv2D(filters=128, kernel_size=3, activation='relu',padding='same',kernel_initializer='he_normal', kernel_regularizer=l2(0.01))(conv11)\n",
    "pool5 = MaxPooling2D((2, 2))(conv12)\n",
    "\n",
    "\n",
    "# definition du réseau 'fully connected'\n",
    "flatten = Flatten()(pool5)\n",
    "fc1 = Dense(512, activation='relu',kernel_initializer='he_normal',kernel_regularizer=l2(0.01))(flatten)\n",
    "fc2 = Dense(256, activation='relu',kernel_initializer='he_normal',kernel_regularizer=l2(0.01))(fc1)\n",
    "outputs = Dense(1, activation='sigmoid')(fc2)\n",
    "\n",
    "# creation du modele\n",
    "model_pc = Model(inputs=inputs, outputs=outputs)\n",
    "\n",
    "# creation de l'optimiseur\n",
    "opt = Adam(learning_rate = 0.0001,epsilon=0.1)\n",
    "# compilation du modele\n",
    "model_pc.compile(loss='binary_crossentropy', optimizer=opt, metrics=['accuracy'])\n",
    "model_pc.summary()"
   ]
  },
  {
   "cell_type": "markdown",
   "id": "1af28578-a539-4c0a-a986-285bcb3603bd",
   "metadata": {},
   "source": [
    "### Entrainement du modele de classification pneumo/covid"
   ]
  },
  {
   "cell_type": "code",
   "execution_count": 71,
   "id": "e4539d4c-0453-42fe-ae97-29bc4a46c1bf",
   "metadata": {
    "tags": []
   },
   "outputs": [
    {
     "name": "stdout",
     "output_type": "stream",
     "text": [
      "Epoch 1/20\n",
      "48/48 [==============================] - 50s 941ms/step - loss: 31.0692 - accuracy: 0.5007 - val_loss: 31.0646 - val_accuracy: 0.5312 - lr: 1.0000e-04\n",
      "Epoch 2/20\n",
      "48/48 [==============================] - 44s 916ms/step - loss: 31.0548 - accuracy: 0.5007 - val_loss: 31.0478 - val_accuracy: 0.5312 - lr: 1.0000e-04\n",
      "Epoch 3/20\n",
      "48/48 [==============================] - 44s 910ms/step - loss: 31.0354 - accuracy: 0.5013 - val_loss: 31.0265 - val_accuracy: 0.5000 - lr: 1.0000e-04\n",
      "Epoch 4/20\n",
      "48/48 [==============================] - 44s 924ms/step - loss: 31.0123 - accuracy: 0.5111 - val_loss: 31.0015 - val_accuracy: 0.5312 - lr: 1.0000e-04\n",
      "Epoch 5/20\n",
      "48/48 [==============================] - 44s 915ms/step - loss: 30.9859 - accuracy: 0.5574 - val_loss: 30.9725 - val_accuracy: 0.6562 - lr: 1.0000e-04\n",
      "Epoch 6/20\n",
      "48/48 [==============================] - 43s 902ms/step - loss: 30.9546 - accuracy: 0.6258 - val_loss: 30.9395 - val_accuracy: 0.6875 - lr: 1.0000e-04\n",
      "Epoch 7/20\n",
      "48/48 [==============================] - 44s 927ms/step - loss: 30.9179 - accuracy: 0.7379 - val_loss: 30.9002 - val_accuracy: 0.7188 - lr: 1.0000e-04\n",
      "Epoch 8/20\n",
      "48/48 [==============================] - 45s 933ms/step - loss: 30.8737 - accuracy: 0.8312 - val_loss: 30.8499 - val_accuracy: 0.9375 - lr: 1.0000e-04\n",
      "Epoch 9/20\n",
      "48/48 [==============================] - 44s 921ms/step - loss: 30.8150 - accuracy: 0.8690 - val_loss: 30.7795 - val_accuracy: 0.9688 - lr: 1.0000e-04\n",
      "Epoch 10/20\n",
      "48/48 [==============================] - 45s 928ms/step - loss: 30.7128 - accuracy: 0.9094 - val_loss: 30.6344 - val_accuracy: 1.0000 - lr: 1.0000e-04\n",
      "Epoch 11/20\n",
      "48/48 [==============================] - 44s 905ms/step - loss: 30.5188 - accuracy: 0.9309 - val_loss: 30.3660 - val_accuracy: 1.0000 - lr: 1.0000e-04\n",
      "Epoch 12/20\n",
      "48/48 [==============================] - 44s 910ms/step - loss: 30.3037 - accuracy: 0.9342 - val_loss: 30.1764 - val_accuracy: 1.0000 - lr: 1.0000e-04\n",
      "Epoch 13/20\n",
      "48/48 [==============================] - 44s 913ms/step - loss: 30.2091 - accuracy: 0.9309 - val_loss: 30.0930 - val_accuracy: 1.0000 - lr: 1.0000e-04\n",
      "Epoch 14/20\n",
      "48/48 [==============================] - 44s 923ms/step - loss: 30.1487 - accuracy: 0.9413 - val_loss: 30.0435 - val_accuracy: 1.0000 - lr: 1.0000e-04\n",
      "Epoch 15/20\n",
      "48/48 [==============================] - 44s 912ms/step - loss: 30.0866 - accuracy: 0.9511 - val_loss: 30.0042 - val_accuracy: 1.0000 - lr: 1.0000e-04\n",
      "Epoch 16/20\n",
      "48/48 [==============================] - 43s 904ms/step - loss: 30.0584 - accuracy: 0.9407 - val_loss: 29.9546 - val_accuracy: 1.0000 - lr: 1.0000e-04\n",
      "Epoch 17/20\n",
      "48/48 [==============================] - 44s 919ms/step - loss: 30.0212 - accuracy: 0.9433 - val_loss: 29.9016 - val_accuracy: 1.0000 - lr: 1.0000e-04\n",
      "Epoch 18/20\n",
      "48/48 [==============================] - 44s 920ms/step - loss: 29.9806 - accuracy: 0.9433 - val_loss: 29.8571 - val_accuracy: 1.0000 - lr: 1.0000e-04\n",
      "Epoch 19/20\n",
      "48/48 [==============================] - 45s 930ms/step - loss: 29.9078 - accuracy: 0.9570 - val_loss: 29.8152 - val_accuracy: 1.0000 - lr: 1.0000e-04\n",
      "Epoch 20/20\n",
      "48/48 [==============================] - 44s 910ms/step - loss: 29.8621 - accuracy: 0.9615 - val_loss: 29.7680 - val_accuracy: 1.0000 - lr: 1.0000e-04\n"
     ]
    }
   ],
   "source": [
    "history_model_pc = model_pc.fit(train_pc_generator, epochs=20, validation_data=valid_pc_generator,callbacks=[reduce_lr,early_stop])"
   ]
  },
  {
   "cell_type": "markdown",
   "id": "522fcb7f-47f1-4706-9387-6f7b829f919d",
   "metadata": {},
   "source": [
    "### Calcul des prediction sur l'ensemble de test pneumo/covid"
   ]
  },
  {
   "cell_type": "code",
   "execution_count": 73,
   "id": "07a26fec-726c-4836-8974-354e3ad886aa",
   "metadata": {
    "tags": []
   },
   "outputs": [],
   "source": [
    "y_pred_liste_pc=[]\n",
    "y_true_liste_pc=[]\n",
    "y_pred_binary_liste_pc=[]\n",
    "df_pc_test = df_pc_test.reset_index(drop=True)\n",
    "\n",
    "for i in range(len(df_pc_test[\"path\"])):\n",
    "    x = tensorflow.keras.utils.load_img(df_pc_test[\"path\"][i], target_size=(232,232), color_mode='grayscale')\n",
    "    x = tensorflow.keras.preprocessing.image.img_to_array(x)\n",
    "    x = x.astype(np.uint16)\n",
    "    x = cv2.resize(x, dsize= (256,256), interpolation=cv2.INTER_CUBIC)\n",
    "    x = np.reshape(x,(256,256,1)).astype('float32') / 255\n",
    "    x=np.resize(x, (1, *(256,256),1))\n",
    "    y= df_pc_test[\"label\"][i]\n",
    "    y= np.resize(y, (1, 1))\n",
    "    y_pred = model_pc.predict(x,verbose= 0)\n",
    "    y_pred_binary = np.round(y_pred).astype(int)\n",
    "    y_pred_liste_pc.extend(y_pred)\n",
    "    y_pred_binary_liste_pc.extend(y_pred_binary)\n",
    "    y_true_liste_pc.extend(y)"
   ]
  },
  {
   "cell_type": "code",
   "execution_count": 74,
   "id": "89118d75-25d0-444b-84b6-f69952afb079",
   "metadata": {
    "tags": []
   },
   "outputs": [
    {
     "name": "stdout",
     "output_type": "stream",
     "text": [
      "col_0    0    1\n",
      "row_0          \n",
      "0      233   11\n",
      "1       15  221\n"
     ]
    }
   ],
   "source": [
    "y_pred_liste_pc = np.reshape(y_pred_liste_pc, (480))\n",
    "y_true_liste_pc = np.reshape(y_true_liste_pc, (480))\n",
    "y_pred_binary_liste_pc = np.reshape(y_pred_binary_liste_pc, (480))\n",
    "print(pd.crosstab(y_true_liste_pc, y_pred_binary_liste_pc))"
   ]
  },
  {
   "cell_type": "markdown",
   "id": "d16f15f4-a169-4560-ad83-6dff650308b3",
   "metadata": {},
   "source": [
    "### Sauvegarde du modele"
   ]
  },
  {
   "cell_type": "code",
   "execution_count": 75,
   "id": "0d361757-debd-4799-8a06-9edbf7b013da",
   "metadata": {
    "tags": []
   },
   "outputs": [],
   "source": [
    "model_pc.save('clasificateur_pneumo_covid_2_94percent.h5')"
   ]
  },
  {
   "cell_type": "code",
   "execution_count": null,
   "id": "dd2ed150-187c-453c-8995-9fbaa1d0b7b9",
   "metadata": {},
   "outputs": [],
   "source": []
  },
  {
   "cell_type": "markdown",
   "id": "63fcfaba-c1e2-4241-9887-280f508ecae8",
   "metadata": {},
   "source": [
    "## Partie II- Classificateur pour les trois classes(Class3) normal/pneumo/covid par palier"
   ]
  },
  {
   "cell_type": "markdown",
   "id": "f5f85ab0-eca1-4bbb-a2b0-b8280aa31a8d",
   "metadata": {
    "tags": []
   },
   "source": [
    "### Etablissement des différents datasets test/entrainement pour le classificateur 3 classes"
   ]
  },
  {
   "cell_type": "code",
   "execution_count": 79,
   "id": "8d947576-cce9-4427-bf1f-55cd7e2861a9",
   "metadata": {
    "tags": []
   },
   "outputs": [
    {
     "name": "stdout",
     "output_type": "stream",
     "text": [
      "Nombre de lignes dans l'ensemble d'entraînement et de validation : 2927\n",
      "Nombre de lignes dans l'ensemble de test : 732\n",
      "Nombre de lignes dans l'ensemble d'entraînement : 2341\n",
      "Nombre de lignes dans l'ensemble de validation : 586\n"
     ]
    }
   ],
   "source": [
    "df_train['label'] = df_train['label'].replace({'NORMAL': 0, 'PNEUMONIA': 1, 'COVID': 2})\n",
    "\n",
    "df_all_train, df_all_test = train_test_split(df_train, test_size=0.2, random_state=168)\n",
    "train_all_df, val_all_df = train_test_split(df_all_train, test_size=0.2, random_state= 761)\n",
    "# Afficher le nombre de lignes de chaque ensemble de données\n",
    "print('Nombre de lignes dans l\\'ensemble d\\'entraînement et de validation :', len(df_all_train))\n",
    "print('Nombre de lignes dans l\\'ensemble de test :', len(df_all_test))\n",
    "print('Nombre de lignes dans l\\'ensemble d\\'entraînement :', len(train_all_df))\n",
    "print('Nombre de lignes dans l\\'ensemble de validation :', len(val_all_df))"
   ]
  },
  {
   "cell_type": "markdown",
   "id": "7dc95c05-6940-4660-a1f7-f5d35104bb3c",
   "metadata": {
    "tags": []
   },
   "source": [
    "### Etablissement des génerateurs pour l'entrainement et la validation du class3"
   ]
  },
  {
   "cell_type": "code",
   "execution_count": 81,
   "id": "7db7f06f-a7a1-4d7a-b1fd-96b5f91bc6b8",
   "metadata": {
    "tags": []
   },
   "outputs": [],
   "source": [
    "class CustomDataGenerator_class3(Sequence):\n",
    "    # similaire au générateur d'avant sauf qu'on labelle les outputs en one-hot encoder de facon à pouvoir l'utiliser avec un softmax et une loss categorical crossentropy\n",
    "    # Il sort également 4 inputs: 1 pour chaque classificateur 2-2 + 1 pour la colonne vertébrale de ce nouveau classificateur\n",
    "    def __init__(self, df, batch_size, input_size=(256, 256), output_size=(256, 256), shuffle=True):\n",
    "        self.df = df\n",
    "        self.batch_size = batch_size\n",
    "        self.input_size = input_size\n",
    "        self.output_size = output_size\n",
    "        self.shuffle = shuffle\n",
    "        self.num_classes = 3 \n",
    "        self.on_epoch_end()\n",
    "    \n",
    "    def __len__(self):\n",
    "        return int(np.ceil(len(self.df) / self.batch_size))\n",
    "    \n",
    "    def __getitem__(self, index):\n",
    "        \n",
    "        batch_df = self.df[index*self.batch_size:(index+1)*self.batch_size]\n",
    "        batch_x = np.zeros((len(batch_df), *self.input_size, 1))\n",
    "        batch_y = np.zeros((len(batch_df), self.num_classes))\n",
    "        \n",
    "        for i, row in enumerate(batch_df.itertuples()):\n",
    "            x = tensorflow.keras.utils.load_img(self.df[\"path\"][i], target_size=(232,232), color_mode='grayscale')\n",
    "            x = tensorflow.keras.preprocessing.image.img_to_array(x)\n",
    "            x = self.augment_input(x)\n",
    "            x = x.astype(np.uint16)\n",
    "            x = cv2.resize(x, dsize= self.output_size, interpolation=cv2.INTER_CUBIC)\n",
    "            x = np.reshape(x,(256,256,1)).astype('float32') / 255\n",
    "            # label encodé en one-hot\n",
    "            label = self.df[\"label\"][i]\n",
    "            y = np.zeros(self.num_classes)\n",
    "            y[label] = 1.0\n",
    "            \n",
    "            batch_x[i] = x\n",
    "            batch_y[i] = y\n",
    "        \n",
    "        return (batch_x,batch_x,batch_x,batch_x), batch_y\n",
    "    \n",
    "    def augment_input(self, x):\n",
    "        image_generator = tensorflow.keras.preprocessing.image.ImageDataGenerator(\n",
    "            rotation_range=20, \n",
    "            zoom_range=0.1,     \n",
    "            brightness_range=[0.9, 1.1],\n",
    "            width_shift_range=0.2,\n",
    "            height_shift_range=0.2,\n",
    "            shear_range=0.2,\n",
    "            horizontal_flip=True,\n",
    "            fill_mode='reflect',\n",
    "        )\n",
    "        x = image_generator.random_transform(x)\n",
    "        return x\n",
    "    \n",
    "    def on_epoch_end(self):\n",
    "        if self.shuffle:\n",
    "            self.df = self.df.sample(frac=1)\n",
    "            \n",
    "class CustomDataGenerator_valid_class3(Sequence):\n",
    "    \n",
    "    def __init__(self, df, batch_size, input_size=(256, 256), output_size=(256, 256), shuffle=False):\n",
    "        self.df = df\n",
    "        self.batch_size = batch_size\n",
    "        self.input_size = input_size\n",
    "        self.output_size = output_size\n",
    "        self.shuffle = shuffle\n",
    "        self.num_classes = 3 \n",
    "    \n",
    "    def __len__(self):\n",
    "        return int(np.ceil(len(self.df) / self.batch_size))\n",
    "    \n",
    "    def __getitem__(self, index):\n",
    "        \n",
    "        batch_df = self.df[index*self.batch_size:(index+1)*self.batch_size]\n",
    "        batch_x = np.zeros((len(batch_df), *self.input_size, 1))\n",
    "        batch_y = np.zeros((len(batch_df), self.num_classes))\n",
    "        \n",
    "        for i, row in enumerate(batch_df.itertuples()):\n",
    "            x = tensorflow.keras.utils.load_img(self.df[\"path\"][i], target_size=(232,232), color_mode='grayscale')\n",
    "            x = tensorflow.keras.preprocessing.image.img_to_array(x)\n",
    "            x = x.astype(np.uint16)\n",
    "            x = cv2.resize(x, dsize= self.output_size, interpolation=cv2.INTER_CUBIC)\n",
    "            x = np.reshape(x,(256,256,1)).astype('float32') / 255\n",
    "            \n",
    "            # label encodé en one-hot\n",
    "            label = self.df[\"label\"][i]\n",
    "            y = np.zeros(self.num_classes)\n",
    "            y[label] = 1.0\n",
    "            \n",
    "            batch_x[i] = x\n",
    "            batch_y[i] = y\n",
    "        \n",
    "        return (batch_x, batch_x, batch_x,batch_x), batch_y"
   ]
  },
  {
   "cell_type": "code",
   "execution_count": 82,
   "id": "86f4099f-c802-4c48-8e1d-f035d1ca93eb",
   "metadata": {
    "tags": []
   },
   "outputs": [],
   "source": [
    "train_all_df = train_all_df.reset_index(drop= True)\n",
    "val_all_df = val_all_df.reset_index(drop= True)\n",
    "\n",
    "train_all_generator_glob=CustomDataGenerator_class3(train_all_df, batch_size=32)\n",
    "valid_all_generator_glob=CustomDataGenerator_valid_class3(val_all_df, batch_size=32)"
   ]
  },
  {
   "cell_type": "markdown",
   "id": "e125caa6-a2e7-43a9-aae9-1ec5636bf004",
   "metadata": {
    "tags": []
   },
   "source": [
    "### Appel des classificateurs 2-2"
   ]
  },
  {
   "cell_type": "code",
   "execution_count": 84,
   "id": "f83af015-2551-43d1-ab7f-c2d3a9449c8e",
   "metadata": {
    "tags": []
   },
   "outputs": [],
   "source": [
    "model_nc = tensorflow.keras.models.load_model('clasificateur_normal_covid_2_95percent.h5',compile=False)\n",
    "model_pc = tensorflow.keras.models.load_model('clasificateur_pneumo_covid_2_94percent.h5',compile=False)\n",
    "model_np = tensorflow.keras.models.load_model('clasificateur_normal_pneumo_2_87percent.h5',compile=False)"
   ]
  },
  {
   "cell_type": "markdown",
   "id": "e38dac3c-9ce0-48a9-af6c-36ebdbffdb20",
   "metadata": {
    "tags": []
   },
   "source": [
    "### Etablissement du modele et des hyperparametres pour le classificateur Class3"
   ]
  },
  {
   "cell_type": "code",
   "execution_count": 109,
   "id": "46980309-8ca1-41e4-9ff2-e13e549b5115",
   "metadata": {
    "tags": []
   },
   "outputs": [
    {
     "name": "stdout",
     "output_type": "stream",
     "text": [
      "Model: \"model_24\"\n",
      "__________________________________________________________________________________________________\n",
      " Layer (type)                   Output Shape         Param #     Connected to                     \n",
      "==================================================================================================\n",
      " input_34 (InputLayer)          [(None, 256, 256, 1  0           []                               \n",
      "                                )]                                                                \n",
      "                                                                                                  \n",
      " input_10 (InputLayer)          [(None, 256, 256, 1  0           []                               \n",
      "                                )]                                                                \n",
      "                                                                                                  \n",
      " input_11 (InputLayer)          [(None, 256, 256, 1  0           []                               \n",
      "                                )]                                                                \n",
      "                                                                                                  \n",
      " input_8 (InputLayer)           [(None, 256, 256, 1  0           []                               \n",
      "                                )]                                                                \n",
      "                                                                                                  \n",
      " conv2d_284 (Conv2D)            (None, 256, 256, 8)  208         ['input_34[0][0]']               \n",
      "                                                                                                  \n",
      " conv2d_108 (Conv2D)            (None, 256, 256, 8)  208         ['input_10[0][0]']               \n",
      "                                                                                                  \n",
      " conv2d_120 (Conv2D)            (None, 256, 256, 8)  208         ['input_11[0][0]']               \n",
      "                                                                                                  \n",
      " conv2d_84 (Conv2D)             (None, 256, 256, 8)  208         ['input_8[0][0]']                \n",
      "                                                                                                  \n",
      " concatenate_110 (Concatenate)  (None, 256, 256, 32  0           ['conv2d_284[0][0]',             \n",
      "                                )                                 'conv2d_108[0][0]',             \n",
      "                                                                  'conv2d_120[0][0]',             \n",
      "                                                                  'conv2d_84[0][0]']              \n",
      "                                                                                                  \n",
      " conv2d_285 (Conv2D)            (None, 256, 256, 8)  6408        ['concatenate_110[0][0]']        \n",
      "                                                                                                  \n",
      " conv2d_109 (Conv2D)            (None, 256, 256, 8)  1608        ['conv2d_108[0][0]']             \n",
      "                                                                                                  \n",
      " conv2d_121 (Conv2D)            (None, 256, 256, 8)  1608        ['conv2d_120[0][0]']             \n",
      "                                                                                                  \n",
      " conv2d_85 (Conv2D)             (None, 256, 256, 8)  1608        ['conv2d_84[0][0]']              \n",
      "                                                                                                  \n",
      " concatenate_111 (Concatenate)  (None, 256, 256, 32  0           ['conv2d_285[0][0]',             \n",
      "                                )                                 'conv2d_109[0][0]',             \n",
      "                                                                  'conv2d_121[0][0]',             \n",
      "                                                                  'conv2d_85[0][0]']              \n",
      "                                                                                                  \n",
      " conv2d_286 (Conv2D)            (None, 256, 256, 8)  6408        ['concatenate_111[0][0]']        \n",
      "                                                                                                  \n",
      " max_pooling2d_102 (MaxPooling2  (None, 128, 128, 8)  0          ['conv2d_286[0][0]']             \n",
      " D)                                                                                               \n",
      "                                                                                                  \n",
      " max_pooling2d_45 (MaxPooling2D  (None, 128, 128, 8)  0          ['conv2d_109[0][0]']             \n",
      " )                                                                                                \n",
      "                                                                                                  \n",
      " max_pooling2d_50 (MaxPooling2D  (None, 128, 128, 8)  0          ['conv2d_121[0][0]']             \n",
      " )                                                                                                \n",
      "                                                                                                  \n",
      " max_pooling2d_35 (MaxPooling2D  (None, 128, 128, 8)  0          ['conv2d_85[0][0]']              \n",
      " )                                                                                                \n",
      "                                                                                                  \n",
      " conv2d_287 (Conv2D)            (None, 128, 128, 16  3216        ['max_pooling2d_102[0][0]']      \n",
      "                                )                                                                 \n",
      "                                                                                                  \n",
      " conv2d_110 (Conv2D)            (None, 128, 128, 16  3216        ['max_pooling2d_45[0][0]']       \n",
      "                                )                                                                 \n",
      "                                                                                                  \n",
      " conv2d_122 (Conv2D)            (None, 128, 128, 16  3216        ['max_pooling2d_50[0][0]']       \n",
      "                                )                                                                 \n",
      "                                                                                                  \n",
      " conv2d_86 (Conv2D)             (None, 128, 128, 16  3216        ['max_pooling2d_35[0][0]']       \n",
      "                                )                                                                 \n",
      "                                                                                                  \n",
      " concatenate_112 (Concatenate)  (None, 128, 128, 64  0           ['conv2d_287[0][0]',             \n",
      "                                )                                 'conv2d_110[0][0]',             \n",
      "                                                                  'conv2d_122[0][0]',             \n",
      "                                                                  'conv2d_86[0][0]']              \n",
      "                                                                                                  \n",
      " conv2d_288 (Conv2D)            (None, 128, 128, 16  9232        ['concatenate_112[0][0]']        \n",
      "                                )                                                                 \n",
      "                                                                                                  \n",
      " conv2d_111 (Conv2D)            (None, 128, 128, 16  2320        ['conv2d_110[0][0]']             \n",
      "                                )                                                                 \n",
      "                                                                                                  \n",
      " conv2d_123 (Conv2D)            (None, 128, 128, 16  2320        ['conv2d_122[0][0]']             \n",
      "                                )                                                                 \n",
      "                                                                                                  \n",
      " conv2d_87 (Conv2D)             (None, 128, 128, 16  2320        ['conv2d_86[0][0]']              \n",
      "                                )                                                                 \n",
      "                                                                                                  \n",
      " concatenate_113 (Concatenate)  (None, 128, 128, 64  0           ['conv2d_288[0][0]',             \n",
      "                                )                                 'conv2d_111[0][0]',             \n",
      "                                                                  'conv2d_123[0][0]',             \n",
      "                                                                  'conv2d_87[0][0]']              \n",
      "                                                                                                  \n",
      " conv2d_289 (Conv2D)            (None, 128, 128, 16  9232        ['concatenate_113[0][0]']        \n",
      "                                )                                                                 \n",
      "                                                                                                  \n",
      " max_pooling2d_103 (MaxPooling2  (None, 64, 64, 16)  0           ['conv2d_289[0][0]']             \n",
      " D)                                                                                               \n",
      "                                                                                                  \n",
      " max_pooling2d_46 (MaxPooling2D  (None, 64, 64, 16)  0           ['conv2d_111[0][0]']             \n",
      " )                                                                                                \n",
      "                                                                                                  \n",
      " max_pooling2d_51 (MaxPooling2D  (None, 64, 64, 16)  0           ['conv2d_123[0][0]']             \n",
      " )                                                                                                \n",
      "                                                                                                  \n",
      " max_pooling2d_36 (MaxPooling2D  (None, 64, 64, 16)  0           ['conv2d_87[0][0]']              \n",
      " )                                                                                                \n",
      "                                                                                                  \n",
      " conv2d_290 (Conv2D)            (None, 64, 64, 32)   4640        ['max_pooling2d_103[0][0]']      \n",
      "                                                                                                  \n",
      " conv2d_112 (Conv2D)            (None, 64, 64, 32)   4640        ['max_pooling2d_46[0][0]']       \n",
      "                                                                                                  \n",
      " conv2d_124 (Conv2D)            (None, 64, 64, 32)   4640        ['max_pooling2d_51[0][0]']       \n",
      "                                                                                                  \n",
      " conv2d_88 (Conv2D)             (None, 64, 64, 32)   4640        ['max_pooling2d_36[0][0]']       \n",
      "                                                                                                  \n",
      " concatenate_114 (Concatenate)  (None, 64, 64, 128)  0           ['conv2d_290[0][0]',             \n",
      "                                                                  'conv2d_112[0][0]',             \n",
      "                                                                  'conv2d_124[0][0]',             \n",
      "                                                                  'conv2d_88[0][0]']              \n",
      "                                                                                                  \n",
      " conv2d_291 (Conv2D)            (None, 64, 64, 32)   36896       ['concatenate_114[0][0]']        \n",
      "                                                                                                  \n",
      " conv2d_113 (Conv2D)            (None, 64, 64, 32)   9248        ['conv2d_112[0][0]']             \n",
      "                                                                                                  \n",
      " conv2d_125 (Conv2D)            (None, 64, 64, 32)   9248        ['conv2d_124[0][0]']             \n",
      "                                                                                                  \n",
      " conv2d_89 (Conv2D)             (None, 64, 64, 32)   9248        ['conv2d_88[0][0]']              \n",
      "                                                                                                  \n",
      " concatenate_115 (Concatenate)  (None, 64, 64, 128)  0           ['conv2d_291[0][0]',             \n",
      "                                                                  'conv2d_113[0][0]',             \n",
      "                                                                  'conv2d_125[0][0]',             \n",
      "                                                                  'conv2d_89[0][0]']              \n",
      "                                                                                                  \n",
      " conv2d_292 (Conv2D)            (None, 64, 64, 32)   36896       ['concatenate_115[0][0]']        \n",
      "                                                                                                  \n",
      " max_pooling2d_104 (MaxPooling2  (None, 32, 32, 32)  0           ['conv2d_292[0][0]']             \n",
      " D)                                                                                               \n",
      "                                                                                                  \n",
      " max_pooling2d_47 (MaxPooling2D  (None, 32, 32, 32)  0           ['conv2d_113[0][0]']             \n",
      " )                                                                                                \n",
      "                                                                                                  \n",
      " max_pooling2d_52 (MaxPooling2D  (None, 32, 32, 32)  0           ['conv2d_125[0][0]']             \n",
      " )                                                                                                \n",
      "                                                                                                  \n",
      " max_pooling2d_37 (MaxPooling2D  (None, 32, 32, 32)  0           ['conv2d_89[0][0]']              \n",
      " )                                                                                                \n",
      "                                                                                                  \n",
      " conv2d_293 (Conv2D)            (None, 32, 32, 64)   18496       ['max_pooling2d_104[0][0]']      \n",
      "                                                                                                  \n",
      " conv2d_114 (Conv2D)            (None, 32, 32, 64)   18496       ['max_pooling2d_47[0][0]']       \n",
      "                                                                                                  \n",
      " conv2d_126 (Conv2D)            (None, 32, 32, 64)   18496       ['max_pooling2d_52[0][0]']       \n",
      "                                                                                                  \n",
      " conv2d_90 (Conv2D)             (None, 32, 32, 64)   18496       ['max_pooling2d_37[0][0]']       \n",
      "                                                                                                  \n",
      " concatenate_116 (Concatenate)  (None, 32, 32, 256)  0           ['conv2d_293[0][0]',             \n",
      "                                                                  'conv2d_114[0][0]',             \n",
      "                                                                  'conv2d_126[0][0]',             \n",
      "                                                                  'conv2d_90[0][0]']              \n",
      "                                                                                                  \n",
      " conv2d_294 (Conv2D)            (None, 32, 32, 64)   147520      ['concatenate_116[0][0]']        \n",
      "                                                                                                  \n",
      " conv2d_115 (Conv2D)            (None, 32, 32, 64)   36928       ['conv2d_114[0][0]']             \n",
      "                                                                                                  \n",
      " conv2d_127 (Conv2D)            (None, 32, 32, 64)   36928       ['conv2d_126[0][0]']             \n",
      "                                                                                                  \n",
      " conv2d_91 (Conv2D)             (None, 32, 32, 64)   36928       ['conv2d_90[0][0]']              \n",
      "                                                                                                  \n",
      " concatenate_117 (Concatenate)  (None, 32, 32, 256)  0           ['conv2d_294[0][0]',             \n",
      "                                                                  'conv2d_115[0][0]',             \n",
      "                                                                  'conv2d_127[0][0]',             \n",
      "                                                                  'conv2d_91[0][0]']              \n",
      "                                                                                                  \n",
      " conv2d_295 (Conv2D)            (None, 32, 32, 64)   147520      ['concatenate_117[0][0]']        \n",
      "                                                                                                  \n",
      " max_pooling2d_105 (MaxPooling2  (None, 16, 16, 64)  0           ['conv2d_295[0][0]']             \n",
      " D)                                                                                               \n",
      "                                                                                                  \n",
      " max_pooling2d_48 (MaxPooling2D  (None, 16, 16, 64)  0           ['conv2d_115[0][0]']             \n",
      " )                                                                                                \n",
      "                                                                                                  \n",
      " max_pooling2d_53 (MaxPooling2D  (None, 16, 16, 64)  0           ['conv2d_127[0][0]']             \n",
      " )                                                                                                \n",
      "                                                                                                  \n",
      " max_pooling2d_38 (MaxPooling2D  (None, 16, 16, 64)  0           ['conv2d_91[0][0]']              \n",
      " )                                                                                                \n",
      "                                                                                                  \n",
      " conv2d_296 (Conv2D)            (None, 16, 16, 128)  73856       ['max_pooling2d_105[0][0]']      \n",
      "                                                                                                  \n",
      " conv2d_116 (Conv2D)            (None, 16, 16, 128)  73856       ['max_pooling2d_48[0][0]']       \n",
      "                                                                                                  \n",
      " conv2d_128 (Conv2D)            (None, 16, 16, 128)  73856       ['max_pooling2d_53[0][0]']       \n",
      "                                                                                                  \n",
      " conv2d_92 (Conv2D)             (None, 16, 16, 128)  73856       ['max_pooling2d_38[0][0]']       \n",
      "                                                                                                  \n",
      " concatenate_118 (Concatenate)  (None, 16, 16, 512)  0           ['conv2d_296[0][0]',             \n",
      "                                                                  'conv2d_116[0][0]',             \n",
      "                                                                  'conv2d_128[0][0]',             \n",
      "                                                                  'conv2d_92[0][0]']              \n",
      "                                                                                                  \n",
      " conv2d_297 (Conv2D)            (None, 16, 16, 128)  589952      ['concatenate_118[0][0]']        \n",
      "                                                                                                  \n",
      " conv2d_117 (Conv2D)            (None, 16, 16, 128)  147584      ['conv2d_116[0][0]']             \n",
      "                                                                                                  \n",
      " conv2d_129 (Conv2D)            (None, 16, 16, 128)  147584      ['conv2d_128[0][0]']             \n",
      "                                                                                                  \n",
      " conv2d_93 (Conv2D)             (None, 16, 16, 128)  147584      ['conv2d_92[0][0]']              \n",
      "                                                                                                  \n",
      " concatenate_119 (Concatenate)  (None, 16, 16, 512)  0           ['conv2d_297[0][0]',             \n",
      "                                                                  'conv2d_117[0][0]',             \n",
      "                                                                  'conv2d_129[0][0]',             \n",
      "                                                                  'conv2d_93[0][0]']              \n",
      "                                                                                                  \n",
      " conv2d_298 (Conv2D)            (None, 16, 16, 128)  589952      ['concatenate_119[0][0]']        \n",
      "                                                                                                  \n",
      " conv2d_118 (Conv2D)            (None, 16, 16, 128)  147584      ['conv2d_117[0][0]']             \n",
      "                                                                                                  \n",
      " conv2d_130 (Conv2D)            (None, 16, 16, 128)  147584      ['conv2d_129[0][0]']             \n",
      "                                                                                                  \n",
      " conv2d_94 (Conv2D)             (None, 16, 16, 128)  147584      ['conv2d_93[0][0]']              \n",
      "                                                                                                  \n",
      " concatenate_120 (Concatenate)  (None, 16, 16, 512)  0           ['conv2d_298[0][0]',             \n",
      "                                                                  'conv2d_118[0][0]',             \n",
      "                                                                  'conv2d_130[0][0]',             \n",
      "                                                                  'conv2d_94[0][0]']              \n",
      "                                                                                                  \n",
      " conv2d_299 (Conv2D)            (None, 16, 16, 128)  589952      ['concatenate_120[0][0]']        \n",
      "                                                                                                  \n",
      " conv2d_119 (Conv2D)            (None, 16, 16, 128)  147584      ['conv2d_118[0][0]']             \n",
      "                                                                                                  \n",
      " conv2d_131 (Conv2D)            (None, 16, 16, 128)  147584      ['conv2d_130[0][0]']             \n",
      "                                                                                                  \n",
      " conv2d_95 (Conv2D)             (None, 16, 16, 128)  147584      ['conv2d_94[0][0]']              \n",
      "                                                                                                  \n",
      " concatenate_121 (Concatenate)  (None, 16, 16, 512)  0           ['conv2d_299[0][0]',             \n",
      "                                                                  'conv2d_119[0][0]',             \n",
      "                                                                  'conv2d_131[0][0]',             \n",
      "                                                                  'conv2d_95[0][0]']              \n",
      "                                                                                                  \n",
      " conv2d_300 (Conv2D)            (None, 16, 16, 128)  589952      ['concatenate_121[0][0]']        \n",
      "                                                                                                  \n",
      " max_pooling2d_106 (MaxPooling2  (None, 8, 8, 128)   0           ['conv2d_300[0][0]']             \n",
      " D)                                                                                               \n",
      "                                                                                                  \n",
      " max_pooling2d_49 (MaxPooling2D  (None, 8, 8, 128)   0           ['conv2d_119[0][0]']             \n",
      " )                                                                                                \n",
      "                                                                                                  \n",
      " max_pooling2d_54 (MaxPooling2D  (None, 8, 8, 128)   0           ['conv2d_131[0][0]']             \n",
      " )                                                                                                \n",
      "                                                                                                  \n",
      " max_pooling2d_39 (MaxPooling2D  (None, 8, 8, 128)   0           ['conv2d_95[0][0]']              \n",
      " )                                                                                                \n",
      "                                                                                                  \n",
      " flatten_25 (Flatten)           (None, 8192)         0           ['max_pooling2d_106[0][0]']      \n",
      "                                                                                                  \n",
      " flatten_9 (Flatten)            (None, 8192)         0           ['max_pooling2d_49[0][0]']       \n",
      "                                                                                                  \n",
      " flatten_10 (Flatten)           (None, 8192)         0           ['max_pooling2d_54[0][0]']       \n",
      "                                                                                                  \n",
      " flatten_7 (Flatten)            (None, 8192)         0           ['max_pooling2d_39[0][0]']       \n",
      "                                                                                                  \n",
      " dense_82 (Dense)               (None, 512)          4194816     ['flatten_25[0][0]']             \n",
      "                                                                                                  \n",
      " dense_27 (Dense)               (None, 512)          4194816     ['flatten_9[0][0]']              \n",
      "                                                                                                  \n",
      " dense_30 (Dense)               (None, 512)          4194816     ['flatten_10[0][0]']             \n",
      "                                                                                                  \n",
      " dense_21 (Dense)               (None, 512)          4194816     ['flatten_7[0][0]']              \n",
      "                                                                                                  \n",
      " concatenate_122 (Concatenate)  (None, 2048)         0           ['dense_82[0][0]',               \n",
      "                                                                  'dense_27[0][0]',               \n",
      "                                                                  'dense_30[0][0]',               \n",
      "                                                                  'dense_21[0][0]']               \n",
      "                                                                                                  \n",
      " dense_83 (Dense)               (None, 512)          1049088     ['concatenate_122[0][0]']        \n",
      "                                                                                                  \n",
      " dense_84 (Dense)               (None, 256)          131328      ['dense_83[0][0]']               \n",
      "                                                                                                  \n",
      " dense_28 (Dense)               (None, 256)          131328      ['dense_27[0][0]']               \n",
      "                                                                                                  \n",
      " dense_31 (Dense)               (None, 256)          131328      ['dense_30[0][0]']               \n",
      "                                                                                                  \n",
      " dense_22 (Dense)               (None, 256)          131328      ['dense_21[0][0]']               \n",
      "                                                                                                  \n",
      " concatenate_123 (Concatenate)  (None, 1024)         0           ['dense_84[0][0]',               \n",
      "                                                                  'dense_28[0][0]',               \n",
      "                                                                  'dense_31[0][0]',               \n",
      "                                                                  'dense_22[0][0]']               \n",
      "                                                                                                  \n",
      " dense_85 (Dense)               (None, 256)          262400      ['concatenate_123[0][0]']        \n",
      "                                                                                                  \n",
      " dense_86 (Dense)               (None, 3)            771         ['dense_85[0][0]']               \n",
      "                                                                                                  \n",
      "==================================================================================================\n",
      "Total params: 23,256,987\n",
      "Trainable params: 8,892,723\n",
      "Non-trainable params: 14,364,264\n",
      "__________________________________________________________________________________________________\n"
     ]
    }
   ],
   "source": [
    "from tensorflow.keras.layers import concatenate\n",
    "\n",
    "# Freeze the weights of the encoder layers\n",
    "for layer in model_nc.layers[:-2]:\n",
    "    layer.trainable = False\n",
    "for layer in model_pc.layers[:-2]:\n",
    "    layer.trainable = False\n",
    "for layer in model_np.layers[:-2]:\n",
    "    layer.trainable = False\n",
    "\n",
    "new_inputs = Input(shape=(img_width, img_height, channels))\n",
    "\n",
    "nc_dense_1 = model_nc.layers[1].output\n",
    "pc_dense_1 = model_pc.layers[1].output\n",
    "np_dense_1 = model_np.layers[1].output\n",
    "\n",
    "nc_dense_2 = model_nc.layers[2].output\n",
    "pc_dense_2 = model_pc.layers[2].output\n",
    "np_dense_2 = model_np.layers[2].output\n",
    "\n",
    "nc_dense_3 = model_nc.layers[4].output\n",
    "pc_dense_3 = model_pc.layers[4].output\n",
    "np_dense_3 = model_np.layers[4].output\n",
    "\n",
    "nc_dense_4 = model_nc.layers[5].output\n",
    "pc_dense_4 = model_pc.layers[5].output\n",
    "np_dense_4 = model_np.layers[5].output\n",
    "\n",
    "\n",
    "nc_dense_5 = model_nc.layers[7].output\n",
    "pc_dense_5 = model_pc.layers[7].output\n",
    "np_dense_5 = model_np.layers[7].output\n",
    "\n",
    "nc_dense_6 = model_nc.layers[8].output\n",
    "pc_dense_6 = model_pc.layers[8].output\n",
    "np_dense_6 = model_np.layers[8].output\n",
    "\n",
    "nc_dense_7 = model_nc.layers[10].output\n",
    "pc_dense_7 = model_pc.layers[10].output\n",
    "np_dense_7 = model_np.layers[10].output\n",
    "\n",
    "nc_dense_8 = model_nc.layers[11].output\n",
    "pc_dense_8 = model_pc.layers[11].output\n",
    "np_dense_8 = model_np.layers[11].output\n",
    "\n",
    "nc_dense_9 = model_nc.layers[13].output\n",
    "pc_dense_9 = model_pc.layers[13].output\n",
    "np_dense_9 = model_np.layers[13].output\n",
    "\n",
    "nc_dense_10= model_nc.layers[14].output\n",
    "pc_dense_10= model_pc.layers[14].output\n",
    "np_dense_10= model_np.layers[14].output\n",
    "\n",
    "nc_dense_11= model_nc.layers[15].output\n",
    "pc_dense_11= model_pc.layers[15].output\n",
    "np_dense_11= model_np.layers[15].output\n",
    "\n",
    "nc_dense_12= model_nc.layers[16].output\n",
    "pc_dense_12= model_pc.layers[16].output\n",
    "np_dense_12= model_np.layers[16].output\n",
    "\n",
    "nc_dense_13= model_nc.layers[-3].output\n",
    "pc_dense_13= model_pc.layers[-3].output\n",
    "np_dense_13= model_np.layers[-3].output\n",
    "\n",
    "nc_dense_14= model_nc.layers[-2].output\n",
    "pc_dense_14= model_pc.layers[-2].output\n",
    "np_dense_14= model_np.layers[-2].output\n",
    "\n",
    "# parametre les dimensions des images \n",
    "img_width, img_height, channels = 256, 256, 1\n",
    "\n",
    "\n",
    "# definition de la couche d'entrée\n",
    "new_inputs = Input(shape=(img_width, img_height, channels))\n",
    "# Blocs de convolution\n",
    "\n",
    "conv1 = Conv2D(filters=8, kernel_size=5, activation='relu', padding='same',kernel_initializer='he_normal', kernel_regularizer=l2(0.1))(new_inputs)\n",
    "conv1 = concatenate([conv1,nc_dense_1,pc_dense_1,np_dense_1])\n",
    "conv2 = Conv2D(filters=8, kernel_size=5, activation='relu', padding='same',kernel_initializer='he_normal', kernel_regularizer=l2(0.1))(conv1)\n",
    "conv2 = concatenate([conv2,nc_dense_2,pc_dense_2,np_dense_2])\n",
    "conv2 = Conv2D(filters=8, kernel_size=5, activation='relu', padding='same',kernel_initializer='he_normal', kernel_regularizer=l2(0.1))(conv2)\n",
    "pool1 = MaxPooling2D((2, 2))(conv2)\n",
    "\n",
    "conv3 = Conv2D(filters=16, kernel_size=5, activation='relu', padding='same',kernel_initializer='he_normal', kernel_regularizer=l2(0.1))(pool1)\n",
    "conv3 = concatenate([conv3,nc_dense_3,pc_dense_3,np_dense_3])\n",
    "conv4 = Conv2D(filters=16, kernel_size=3, activation='relu',padding='same',kernel_initializer='he_normal', kernel_regularizer=l2(0.1))(conv3)\n",
    "conv4 = concatenate([conv4,nc_dense_4,pc_dense_4,np_dense_4])\n",
    "conv4 = Conv2D(filters=16, kernel_size=3, activation='relu',padding='same',kernel_initializer='he_normal', kernel_regularizer=l2(0.1))(conv4)\n",
    "pool2 = MaxPooling2D((2, 2))(conv4)\n",
    "\n",
    "conv5 = Conv2D(filters=32, kernel_size=3, activation='relu',padding='same',kernel_initializer='he_normal', kernel_regularizer=l2(0.1))(pool2)\n",
    "conv5 = concatenate([conv5,nc_dense_5,pc_dense_5,np_dense_5])\n",
    "conv6 = Conv2D(filters=32, kernel_size=3, activation='relu',padding='same',kernel_initializer='he_normal', kernel_regularizer=l2(0.1))(conv5)\n",
    "conv6 = concatenate([conv6,nc_dense_6,pc_dense_6,np_dense_6])\n",
    "conv6 = Conv2D(filters=32, kernel_size=3, activation='relu',padding='same',kernel_initializer='he_normal', kernel_regularizer=l2(0.1))(conv6)\n",
    "pool3 = MaxPooling2D((2, 2))(conv6)\n",
    "\n",
    "conv7 = Conv2D(filters=64, kernel_size=3, activation='relu',padding='same',kernel_initializer='he_normal', kernel_regularizer=l2(0.1))(pool3)\n",
    "conv7 = concatenate([conv7,nc_dense_7,pc_dense_7,np_dense_7])\n",
    "conv8 = Conv2D(filters=64, kernel_size=3, activation='relu',padding='same',kernel_initializer='he_normal', kernel_regularizer=l2(0.1))(conv7)\n",
    "conv8 = concatenate([conv8,nc_dense_8,pc_dense_8,np_dense_8])\n",
    "conv8 = Conv2D(filters=64, kernel_size=3, activation='relu',padding='same',kernel_initializer='he_normal', kernel_regularizer=l2(0.1))(conv8)\n",
    "pool4 = MaxPooling2D((2, 2))(conv8)\n",
    "\n",
    "conv9 = Conv2D(filters=128, kernel_size=3, activation='relu',padding='same',kernel_initializer='he_normal', kernel_regularizer=l2(0.1))(pool4)\n",
    "conv9 = concatenate([conv9,nc_dense_9,pc_dense_9,np_dense_9])\n",
    "conv10 = Conv2D(filters=128, kernel_size=3, activation='relu',padding='same',kernel_initializer='he_normal', kernel_regularizer=l2(0.1))(conv9)\n",
    "conv10 = concatenate([conv10,nc_dense_10,pc_dense_10,np_dense_10])\n",
    "conv11 = Conv2D(filters=128, kernel_size=3, activation='relu',padding='same',kernel_initializer='he_normal', kernel_regularizer=l2(0.1))(conv10)\n",
    "conv11 = concatenate([conv11,nc_dense_11,pc_dense_11,np_dense_11])\n",
    "conv12 = Conv2D(filters=128, kernel_size=3, activation='relu',padding='same',kernel_initializer='he_normal', kernel_regularizer=l2(0.1))(conv11)\n",
    "conv12 = concatenate([conv12,nc_dense_12,pc_dense_12,np_dense_12])\n",
    "conv12 = Conv2D(filters=128, kernel_size=3, activation='relu',padding='same',kernel_initializer='he_normal', kernel_regularizer=l2(0.1))(conv12)\n",
    "pool5 = MaxPooling2D((2, 2))(conv12)\n",
    "\n",
    "flatten = Flatten()(pool5)\n",
    "fc1 = Dense(512, activation='relu',kernel_initializer='he_normal',kernel_regularizer=l2(0.1))(flatten)\n",
    "fc1 = concatenate([fc1,nc_dense_13,pc_dense_13,np_dense_13])\n",
    "fc1 = Dense(512, activation='relu',kernel_initializer='he_normal',kernel_regularizer=l2(0.1))(fc1)\n",
    "fc2 = Dense(256, activation='relu',kernel_initializer='he_normal',kernel_regularizer=l2(0.1))(fc1)\n",
    "fc2 = concatenate([fc2,nc_dense_14,pc_dense_14,np_dense_14])\n",
    "fc2 = Dense(256, activation='relu',kernel_initializer='he_normal',kernel_regularizer=l2(0.1))(fc2)\n",
    "outputs = Dense(3, activation='softmax')(fc2)\n",
    "\n",
    "model_Class3 = Model(inputs=[new_inputs,model_nc.input, model_pc.input, model_np.input], outputs=outputs)\n",
    "\n",
    "# creation de l'optimiseur\n",
    "optimizer = Adam(learning_rate = 0.0001,epsilon=0.1)\n",
    "\n",
    "model_Class3.compile(loss='categorical_crossentropy', optimizer=optimizer, metrics=['accuracy'])\n",
    "model_Class3.summary()"
   ]
  },
  {
   "cell_type": "code",
   "execution_count": 110,
   "id": "ce73108a-c72d-47d0-914f-1a58613eb192",
   "metadata": {
    "tags": []
   },
   "outputs": [],
   "source": [
    "# Création d'un objet ReduceLROnPlateau\n",
    "reduce_lr = ReduceLROnPlateau(monitor='val_loss', factor=0.1, patience=3, min_lr=0.00001)\n",
    "# Création d'un objet EarlyStopping\n",
    "early_stop = EarlyStopping(monitor='val_accuracy', patience=10, verbose=1, restore_best_weights=True)"
   ]
  },
  {
   "cell_type": "code",
   "execution_count": 111,
   "id": "c531a0c4-df73-4956-bc89-c8f6ca8e2a91",
   "metadata": {
    "tags": []
   },
   "outputs": [
    {
     "name": "stdout",
     "output_type": "stream",
     "text": [
      "Epoch 1/35\n",
      "74/74 [==============================] - 77s 909ms/step - loss: 595.2174 - accuracy: 0.5399 - val_loss: 592.6113 - val_accuracy: 0.6246 - lr: 1.0000e-04\n",
      "Epoch 2/35\n",
      "74/74 [==============================] - 67s 892ms/step - loss: 590.5267 - accuracy: 0.6929 - val_loss: 587.9716 - val_accuracy: 0.7184 - lr: 1.0000e-04\n",
      "Epoch 3/35\n",
      "74/74 [==============================] - 67s 903ms/step - loss: 585.2432 - accuracy: 0.7211 - val_loss: 582.1378 - val_accuracy: 0.7509 - lr: 1.0000e-04\n",
      "Epoch 4/35\n",
      "74/74 [==============================] - 68s 910ms/step - loss: 579.0479 - accuracy: 0.7433 - val_loss: 575.5369 - val_accuracy: 0.7474 - lr: 1.0000e-04\n",
      "Epoch 5/35\n",
      "74/74 [==============================] - 69s 925ms/step - loss: 572.1606 - accuracy: 0.7651 - val_loss: 568.3231 - val_accuracy: 0.8123 - lr: 1.0000e-04\n",
      "Epoch 6/35\n",
      "74/74 [==============================] - 70s 937ms/step - loss: 564.6922 - accuracy: 0.7873 - val_loss: 560.6522 - val_accuracy: 0.8140 - lr: 1.0000e-04\n",
      "Epoch 7/35\n",
      "74/74 [==============================] - 66s 884ms/step - loss: 556.8669 - accuracy: 0.7877 - val_loss: 552.6359 - val_accuracy: 0.8447 - lr: 1.0000e-04\n",
      "Epoch 8/35\n",
      "74/74 [==============================] - 67s 901ms/step - loss: 548.6406 - accuracy: 0.7997 - val_loss: 544.3371 - val_accuracy: 0.8447 - lr: 1.0000e-04\n",
      "Epoch 9/35\n",
      "74/74 [==============================] - 67s 903ms/step - loss: 540.2998 - accuracy: 0.8014 - val_loss: 535.8342 - val_accuracy: 0.8123 - lr: 1.0000e-04\n",
      "Epoch 10/35\n",
      "74/74 [==============================] - 68s 908ms/step - loss: 531.6917 - accuracy: 0.8227 - val_loss: 527.1619 - val_accuracy: 0.8430 - lr: 1.0000e-04\n",
      "Epoch 11/35\n",
      "74/74 [==============================] - 68s 911ms/step - loss: 522.9991 - accuracy: 0.8219 - val_loss: 518.4052 - val_accuracy: 0.8447 - lr: 1.0000e-04\n",
      "Epoch 12/35\n",
      "74/74 [==============================] - 69s 924ms/step - loss: 514.0872 - accuracy: 0.8296 - val_loss: 509.5289 - val_accuracy: 0.8447 - lr: 1.0000e-04\n",
      "Epoch 13/35\n",
      "74/74 [==============================] - 70s 941ms/step - loss: 505.2834 - accuracy: 0.8253 - val_loss: 500.6445 - val_accuracy: 0.8737 - lr: 1.0000e-04\n",
      "Epoch 14/35\n",
      "74/74 [==============================] - 67s 899ms/step - loss: 496.3665 - accuracy: 0.8304 - val_loss: 491.7793 - val_accuracy: 0.8754 - lr: 1.0000e-04\n",
      "Epoch 15/35\n",
      "74/74 [==============================] - 67s 901ms/step - loss: 487.5390 - accuracy: 0.8347 - val_loss: 482.9234 - val_accuracy: 0.8754 - lr: 1.0000e-04\n",
      "Epoch 16/35\n",
      "74/74 [==============================] - 67s 897ms/step - loss: 478.6416 - accuracy: 0.8432 - val_loss: 474.1039 - val_accuracy: 0.8754 - lr: 1.0000e-04\n",
      "Epoch 17/35\n",
      "74/74 [==============================] - 68s 907ms/step - loss: 469.8768 - accuracy: 0.8381 - val_loss: 465.3858 - val_accuracy: 0.8430 - lr: 1.0000e-04\n",
      "Epoch 18/35\n",
      "74/74 [==============================] - 68s 918ms/step - loss: 461.1418 - accuracy: 0.8505 - val_loss: 456.6814 - val_accuracy: 0.9061 - lr: 1.0000e-04\n",
      "Epoch 19/35\n",
      "74/74 [==============================] - 70s 937ms/step - loss: 452.5271 - accuracy: 0.8458 - val_loss: 448.1209 - val_accuracy: 0.8447 - lr: 1.0000e-04\n",
      "Epoch 20/35\n",
      "74/74 [==============================] - 69s 931ms/step - loss: 444.0060 - accuracy: 0.8603 - val_loss: 439.6126 - val_accuracy: 0.8754 - lr: 1.0000e-04\n",
      "Epoch 21/35\n",
      "74/74 [==============================] - 68s 906ms/step - loss: 435.5227 - accuracy: 0.8646 - val_loss: 431.2478 - val_accuracy: 0.9061 - lr: 1.0000e-04\n",
      "Epoch 22/35\n",
      "74/74 [==============================] - 66s 885ms/step - loss: 427.2677 - accuracy: 0.8676 - val_loss: 423.0394 - val_accuracy: 0.8447 - lr: 1.0000e-04\n",
      "Epoch 23/35\n",
      "74/74 [==============================] - 66s 885ms/step - loss: 419.1005 - accuracy: 0.8659 - val_loss: 414.9031 - val_accuracy: 0.8447 - lr: 1.0000e-04\n",
      "Epoch 24/35\n",
      "74/74 [==============================] - 68s 907ms/step - loss: 410.9666 - accuracy: 0.8667 - val_loss: 406.8645 - val_accuracy: 0.8737 - lr: 1.0000e-04\n",
      "Epoch 25/35\n",
      "74/74 [==============================] - 68s 911ms/step - loss: 403.0192 - accuracy: 0.8736 - val_loss: 399.0103 - val_accuracy: 0.8754 - lr: 1.0000e-04\n",
      "Epoch 26/35\n",
      "74/74 [==============================] - 68s 919ms/step - loss: 395.2352 - accuracy: 0.8616 - val_loss: 391.2890 - val_accuracy: 0.9061 - lr: 1.0000e-04\n",
      "Epoch 27/35\n",
      "74/74 [==============================] - 69s 933ms/step - loss: 387.6346 - accuracy: 0.8689 - val_loss: 383.7287 - val_accuracy: 0.9061 - lr: 1.0000e-04\n",
      "Epoch 28/35\n",
      "74/74 [==============================] - ETA: 0s - loss: 380.0857 - accuracy: 0.8714Restoring model weights from the end of the best epoch: 18.\n",
      "74/74 [==============================] - 68s 912ms/step - loss: 380.0857 - accuracy: 0.8714 - val_loss: 376.2650 - val_accuracy: 0.9061 - lr: 1.0000e-04\n",
      "Epoch 28: early stopping\n"
     ]
    }
   ],
   "source": [
    "history_model_Class3 = model_Class3.fit(train_all_generator_glob, epochs=35, validation_data=valid_all_generator_glob,callbacks=[reduce_lr,early_stop])"
   ]
  },
  {
   "cell_type": "markdown",
   "id": "195f5846-d540-4dc2-a8cf-9251e50c6c2e",
   "metadata": {},
   "source": [
    "### Calcul des prediction sur l'ensemble de test dataframe"
   ]
  },
  {
   "cell_type": "code",
   "execution_count": 112,
   "id": "a04e02b2-bfa2-4ad7-b0ed-7d6096653af8",
   "metadata": {
    "tags": []
   },
   "outputs": [],
   "source": [
    "y_pred_liste=[]\n",
    "y_true_liste=[]\n",
    "y_pred_argmax_liste=[]\n",
    "df_all_test = df_all_test.reset_index(drop=True)\n",
    "\n",
    "for i in range(len(df_all_test[\"path\"])):\n",
    "    x = tensorflow.keras.utils.load_img(df_all_test[\"path\"][i], target_size=(232,232), color_mode='grayscale')\n",
    "    x = tensorflow.keras.preprocessing.image.img_to_array(x)\n",
    "    x = x.astype(np.uint16)\n",
    "    x = cv2.resize(x, dsize= (256,256), interpolation=cv2.INTER_CUBIC)\n",
    "    x = np.reshape(x,(256,256,1)).astype('float32') / 255\n",
    "    x=np.resize(x, (1, *(256,256),1))\n",
    "    y= df_all_test[\"label\"][i]\n",
    "    y= np.resize(y, (1, 1))\n",
    "    y_pred = model_Class3.predict((x,x,x,x),verbose= 0)\n",
    "    y_pred_argmax = np.argmax(y_pred, axis=1)\n",
    "    y_pred_liste.extend(y_pred)\n",
    "    y_pred_argmax_liste.extend(y_pred_argmax)\n",
    "    y_true_liste.extend(y)"
   ]
  },
  {
   "cell_type": "code",
   "execution_count": 113,
   "id": "43375ce2-c262-4b11-8a6c-84040b9d7343",
   "metadata": {
    "tags": []
   },
   "outputs": [
    {
     "name": "stdout",
     "output_type": "stream",
     "text": [
      "col_0    0    1    2\n",
      "row_0               \n",
      "0      184   72    4\n",
      "1       21  221    5\n",
      "2       10   12  203\n"
     ]
    }
   ],
   "source": [
    "y_pred_liste = np.reshape(y_pred_liste, (732,3))\n",
    "y_true_liste = np.reshape(y_true_liste, (732))\n",
    "y_pred_argmax_liste = np.reshape(y_pred_argmax_liste, (732))\n",
    "print(pd.crosstab(y_true_liste, y_pred_argmax_liste))\n"
   ]
  },
  {
   "cell_type": "markdown",
   "id": "dee82cf0-da17-4a78-8b8c-7820050dd37b",
   "metadata": {},
   "source": [
    "### Sauvegarde du modele "
   ]
  },
  {
   "cell_type": "code",
   "execution_count": 115,
   "id": "54aa6684-b350-4ced-8cc6-ed812f9fb305",
   "metadata": {
    "tags": []
   },
   "outputs": [],
   "source": [
    "model_Class3.save('clasificateur_full_2_83percent.h5')"
   ]
  },
  {
   "cell_type": "markdown",
   "id": "3ec2c277-7069-4c4a-a8b7-c5d3dbff259f",
   "metadata": {},
   "source": [
    "#### relancer pour voir si amelioration"
   ]
  },
  {
   "cell_type": "code",
   "execution_count": 116,
   "id": "fa74e383-b779-40da-bc20-8a7fbb1a3431",
   "metadata": {
    "tags": []
   },
   "outputs": [
    {
     "name": "stdout",
     "output_type": "stream",
     "text": [
      "Epoch 1/15\n",
      "74/74 [==============================] - 67s 897ms/step - loss: 452.3416 - accuracy: 0.8505 - val_loss: 447.6040 - val_accuracy: 0.8447 - lr: 1.0000e-04\n",
      "Epoch 2/15\n",
      "74/74 [==============================] - 67s 893ms/step - loss: 443.0376 - accuracy: 0.8633 - val_loss: 438.3801 - val_accuracy: 0.8754 - lr: 1.0000e-04\n",
      "Epoch 3/15\n",
      "74/74 [==============================] - 67s 904ms/step - loss: 434.0306 - accuracy: 0.8466 - val_loss: 429.4365 - val_accuracy: 0.9061 - lr: 1.0000e-04\n",
      "Epoch 4/15\n",
      "74/74 [==============================] - 70s 941ms/step - loss: 425.2217 - accuracy: 0.8599 - val_loss: 420.7262 - val_accuracy: 0.8754 - lr: 1.0000e-04\n",
      "Epoch 5/15\n",
      "74/74 [==============================] - 70s 937ms/step - loss: 416.6115 - accuracy: 0.8582 - val_loss: 412.1649 - val_accuracy: 0.8754 - lr: 1.0000e-04\n",
      "Epoch 6/15\n",
      "74/74 [==============================] - 69s 931ms/step - loss: 408.0992 - accuracy: 0.8625 - val_loss: 403.8061 - val_accuracy: 0.9061 - lr: 1.0000e-04\n",
      "Epoch 7/15\n",
      "74/74 [==============================] - 67s 900ms/step - loss: 399.8716 - accuracy: 0.8543 - val_loss: 395.6385 - val_accuracy: 0.8754 - lr: 1.0000e-04\n",
      "Epoch 8/15\n",
      "74/74 [==============================] - 67s 896ms/step - loss: 391.7275 - accuracy: 0.8654 - val_loss: 387.6457 - val_accuracy: 0.9044 - lr: 1.0000e-04\n",
      "Epoch 9/15\n",
      "74/74 [==============================] - 68s 908ms/step - loss: 383.8289 - accuracy: 0.8680 - val_loss: 379.8726 - val_accuracy: 0.8447 - lr: 1.0000e-04\n",
      "Epoch 10/15\n",
      "74/74 [==============================] - 68s 912ms/step - loss: 376.1547 - accuracy: 0.8672 - val_loss: 372.2131 - val_accuracy: 0.9369 - lr: 1.0000e-04\n",
      "Epoch 11/15\n",
      "74/74 [==============================] - 69s 928ms/step - loss: 368.6368 - accuracy: 0.8731 - val_loss: 364.8092 - val_accuracy: 0.8754 - lr: 1.0000e-04\n",
      "Epoch 12/15\n",
      "74/74 [==============================] - 70s 939ms/step - loss: 361.2376 - accuracy: 0.8718 - val_loss: 357.5617 - val_accuracy: 0.8754 - lr: 1.0000e-04\n",
      "Epoch 13/15\n",
      "74/74 [==============================] - 70s 937ms/step - loss: 354.0985 - accuracy: 0.8689 - val_loss: 350.4361 - val_accuracy: 0.8430 - lr: 1.0000e-04\n",
      "Epoch 14/15\n",
      "74/74 [==============================] - 66s 881ms/step - loss: 347.0336 - accuracy: 0.8684 - val_loss: 343.5591 - val_accuracy: 0.8447 - lr: 1.0000e-04\n",
      "Epoch 15/15\n",
      "74/74 [==============================] - 67s 903ms/step - loss: 340.2287 - accuracy: 0.8642 - val_loss: 336.7321 - val_accuracy: 0.9061 - lr: 1.0000e-04\n"
     ]
    }
   ],
   "source": [
    "history_model_Class3 = model_Class3.fit(train_all_generator_glob, epochs=15, validation_data=valid_all_generator_glob,callbacks=[reduce_lr,early_stop])"
   ]
  },
  {
   "cell_type": "code",
   "execution_count": 119,
   "id": "ee736712-44cb-4e9a-aa78-13e568df260c",
   "metadata": {
    "tags": []
   },
   "outputs": [],
   "source": [
    "y_pred_liste=[]\n",
    "y_true_liste=[]\n",
    "y_pred_argmax_liste=[]\n",
    "df_all_test = df_all_test.reset_index(drop=True)\n",
    "\n",
    "for i in range(len(df_all_test[\"path\"])):\n",
    "    x = tensorflow.keras.utils.load_img(df_all_test[\"path\"][i], target_size=(232,232), color_mode='grayscale')\n",
    "    x = tensorflow.keras.preprocessing.image.img_to_array(x)\n",
    "    x = x.astype(np.uint16)\n",
    "    x = cv2.resize(x, dsize= (256,256), interpolation=cv2.INTER_CUBIC)\n",
    "    x = np.reshape(x,(256,256,1)).astype('float32') / 255\n",
    "    x=np.resize(x, (1, *(256,256),1))\n",
    "    y= df_all_test[\"label\"][i]\n",
    "    y= np.resize(y, (1, 1))\n",
    "    y_pred = model_Class3.predict((x,x,x,x),verbose= 0)\n",
    "    y_pred_argmax = np.argmax(y_pred, axis=1)\n",
    "    y_pred_liste.extend(y_pred)\n",
    "    y_pred_argmax_liste.extend(y_pred_argmax)\n",
    "    y_true_liste.extend(y)"
   ]
  },
  {
   "cell_type": "code",
   "execution_count": 120,
   "id": "66530d3c-d189-4495-ae87-31a04152105d",
   "metadata": {
    "tags": []
   },
   "outputs": [
    {
     "name": "stdout",
     "output_type": "stream",
     "text": [
      "col_0    0    1    2\n",
      "row_0               \n",
      "0      205   49    6\n",
      "1       28  210    9\n",
      "2       10    9  206\n"
     ]
    }
   ],
   "source": [
    "y_pred_liste = np.reshape(y_pred_liste, (732,3))\n",
    "y_true_liste = np.reshape(y_true_liste, (732))\n",
    "y_pred_argmax_liste = np.reshape(y_pred_argmax_liste, (732))\n",
    "print(pd.crosstab(y_true_liste, y_pred_argmax_liste))\n"
   ]
  },
  {
   "cell_type": "markdown",
   "id": "80a7b6fa-5985-46dd-8bb2-994bba96e450",
   "metadata": {},
   "source": [
    "### legere amelioration donc sauvegarde "
   ]
  },
  {
   "cell_type": "code",
   "execution_count": 121,
   "id": "1bd6b387-ba38-4815-8e8f-1e4a79e2a3bd",
   "metadata": {
    "tags": []
   },
   "outputs": [],
   "source": [
    "model_Class3.save('clasificateur_full_2_84percent.h5')"
   ]
  },
  {
   "cell_type": "markdown",
   "id": "3084de12-bf3b-4b51-9984-9fb5db9ca75a",
   "metadata": {},
   "source": [
    "### calcul des predictions pour soumissions"
   ]
  },
  {
   "cell_type": "code",
   "execution_count": 122,
   "id": "26712457-d5d4-437a-9190-0e25aa786476",
   "metadata": {
    "tags": []
   },
   "outputs": [],
   "source": [
    "df_test= pd.read_csv(\"data/test.csv\")\n",
    "df_test['path']=  df_test['image_id'].apply(lambda x: 'data/data/' + x)\n"
   ]
  },
  {
   "cell_type": "code",
   "execution_count": 123,
   "id": "a690fe65-7a19-4bfe-aab5-75d222e28a18",
   "metadata": {
    "tags": []
   },
   "outputs": [],
   "source": [
    "y_pred_liste=[]\n",
    "y_true_liste=[]\n",
    "y_pred_argmax_liste=[]\n",
    "\n",
    "for i in range(len(df_test[\"path\"])):\n",
    "    x = tensorflow.keras.utils.load_img(df_test[\"path\"][i], target_size=(232,232), color_mode='grayscale')\n",
    "    x = tensorflow.keras.preprocessing.image.img_to_array(x)\n",
    "    x = x.astype(np.uint16)\n",
    "    x = cv2.resize(x, dsize= (256,256), interpolation=cv2.INTER_CUBIC)\n",
    "    x = np.reshape(x,(256,256,1)).astype('float32') / 255\n",
    "    x = np.resize(x, (1, *(256,256),1))\n",
    "    y_pred = model_Class3.predict((x,x,x,x),verbose= 0)\n",
    "    y_pred_argmax = np.argmax(y_pred, axis=1)\n",
    "    y_pred_liste.extend(y_pred)\n",
    "    y_pred_argmax_liste.extend(y_pred_argmax)"
   ]
  },
  {
   "cell_type": "code",
   "execution_count": 124,
   "id": "a87eda35-4862-46e0-a961-95f01050f1e8",
   "metadata": {
    "tags": []
   },
   "outputs": [
    {
     "name": "stdout",
     "output_type": "stream",
     "text": [
      "<class 'pandas.core.frame.DataFrame'>\n",
      "RangeIndex: 1569 entries, 0 to 1568\n",
      "Data columns (total 4 columns):\n",
      " #   Column      Non-Null Count  Dtype \n",
      "---  ------      --------------  ----- \n",
      " 0   image_id    1569 non-null   object\n",
      " 1   trustii_id  1569 non-null   int64 \n",
      " 2   path        1569 non-null   object\n",
      " 3   label       1569 non-null   object\n",
      "dtypes: int64(1), object(3)\n",
      "memory usage: 49.2+ KB\n"
     ]
    }
   ],
   "source": [
    "y_pred_argmax_liste = np.reshape(y_pred_argmax_liste, (1569))\n",
    "df_test[\"label\"]= y_pred_argmax_liste\n",
    "df_test['label'] = df_test['label'].replace({0 : 'NORMAL', 1:'PNEUMONIA', 2 :'COVID'})\n",
    "df_test.info()"
   ]
  },
  {
   "cell_type": "code",
   "execution_count": 125,
   "id": "61ec3db7-225e-4453-b1bd-db0622334c02",
   "metadata": {
    "tags": []
   },
   "outputs": [],
   "source": [
    "df_test.to_csv('submission_clasificateur_palier_1_84percent.csv', index=False, columns=['image_id','trustii_id','label'], encoding='UTF-8')"
   ]
  }
 ],
 "metadata": {
  "kernelspec": {
   "display_name": "Python 3 (ipykernel)",
   "language": "python",
   "name": "python3"
  },
  "language_info": {
   "codemirror_mode": {
    "name": "ipython",
    "version": 3
   },
   "file_extension": ".py",
   "mimetype": "text/x-python",
   "name": "python",
   "nbconvert_exporter": "python",
   "pygments_lexer": "ipython3",
   "version": "3.10.10"
  }
 },
 "nbformat": 4,
 "nbformat_minor": 5
}
